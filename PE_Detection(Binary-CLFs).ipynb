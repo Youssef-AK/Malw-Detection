{
 "cells": [
  {
   "cell_type": "markdown",
   "metadata": {
    "id": "tG64o1TmzQBh"
   },
   "source": [
    "# Reference\n",
    "**Paper** : \n",
    "https://liminyang.web.illinois.edu/data/DLS21_BODMAS.pdf\n",
    "\n",
    "**Website** : \n",
    "https://whyisyoung.github.io/BODMAS/\n",
    "\n",
    "**Drive** : \n",
    "https://drive.google.com/drive/folders/1Uf-LebLWyi9eCv97iBal7kL1NgiGEsv_\n"
   ]
  },
  {
   "cell_type": "markdown",
   "metadata": {
    "tags": []
   },
   "source": [
    "### Import required Modules"
   ]
  },
  {
   "cell_type": "code",
   "execution_count": 1,
   "metadata": {
    "id": "chvc-hgDudLG"
   },
   "outputs": [
    {
     "name": "stderr",
     "output_type": "stream",
     "text": [
      "C:\\ProgramData\\Anaconda3\\lib\\site-packages\\xgboost\\compat.py:36: FutureWarning: pandas.Int64Index is deprecated and will be removed from pandas in a future version. Use pandas.Index with the appropriate dtype instead.\n",
      "  from pandas import MultiIndex, Int64Index\n"
     ]
    }
   ],
   "source": [
    "import numpy as np\n",
    "import pandas as pd\n",
    "\n",
    "# Visualization\n",
    "import matplotlib.pyplot as plt\n",
    "import seaborn as sns\n",
    "\n",
    "\n",
    "# Preprocessing\n",
    "from sklearn.preprocessing import LabelEncoder\n",
    "\n",
    "# Modeling\n",
    "from sklearn.linear_model import LogisticRegression\n",
    "# Ensemble Models and CLF-Voting\n",
    "from sklearn.neighbors import KNeighborsClassifier\n",
    "from sklearn.tree import DecisionTreeClassifier\n",
    "from sklearn.ensemble import VotingClassifier\n",
    "\n",
    "import xgboost as xgb\n",
    "from xgboost import XGBClassifier\n",
    "\n",
    "\n",
    "# Evaluation\n",
    "from sklearn.metrics import accuracy_score\n",
    "\n",
    "\n",
    "%matplotlib inline\n",
    "\n",
    "import warnings\n",
    "warnings.filterwarnings('ignore')\n",
    "\n",
    "# Set seed for reproducibility\n",
    "seed = 44"
   ]
  },
  {
   "cell_type": "markdown",
   "metadata": {
    "tags": []
   },
   "source": [
    "### Load our Feature-Vectors"
   ]
  },
  {
   "cell_type": "code",
   "execution_count": 2,
   "metadata": {
    "colab": {
     "base_uri": "https://localhost:8080/"
    },
    "id": "LLdYmaQ8w3tY",
    "outputId": "2e6699b6-da63-46c0-b1a7-c8b2111cd2c4"
   },
   "outputs": [
    {
     "data": {
      "text/plain": [
       "<numpy.lib.npyio.NpzFile at 0x16b36b5a040>"
      ]
     },
     "execution_count": 2,
     "metadata": {},
     "output_type": "execute_result"
    }
   ],
   "source": [
    "bodMas = 'bodmas.npz'\n",
    "bodMas_df = np.load(bodMas)\n",
    "\n",
    "bodMas_df"
   ]
  },
  {
   "cell_type": "code",
   "execution_count": 3,
   "metadata": {
    "colab": {
     "base_uri": "https://localhost:8080/"
    },
    "id": "xzrmNEUexjI7",
    "outputId": "957ffe8f-a809-4882-f92b-4bdd39885b35"
   },
   "outputs": [
    {
     "data": {
      "text/plain": [
       "['X', 'y']"
      ]
     },
     "execution_count": 3,
     "metadata": {},
     "output_type": "execute_result"
    }
   ],
   "source": [
    "bodMas_df.files"
   ]
  },
  {
   "cell_type": "code",
   "execution_count": 4,
   "metadata": {
    "colab": {
     "base_uri": "https://localhost:8080/"
    },
    "id": "mdc-XD7exuYJ",
    "outputId": "65de9eb5-8d18-429e-af32-76f6846b97d1"
   },
   "outputs": [
    {
     "name": "stdout",
     "output_type": "stream",
     "text": [
      "(134435, 2381) (134435,)\n"
     ]
    }
   ],
   "source": [
    "# Identify X & y\n",
    "X = bodMas_df['X']\n",
    "y = bodMas_df['y']\n",
    "\n",
    "print(X.shape, y.shape)"
   ]
  },
  {
   "cell_type": "code",
   "execution_count": 5,
   "metadata": {},
   "outputs": [
    {
     "name": "stdout",
     "output_type": "stream",
     "text": [
      "[[0.12141006 0.00910332 0.00467501 ... 0.         0.         0.        ]\n",
      " [0.18317465 0.04973748 0.00886418 ... 0.         0.         0.        ]\n",
      " [0.7121212  0.01136364 0.01515152 ... 0.         0.         0.        ]\n",
      " ...\n",
      " [0.1423067  0.01637877 0.01097404 ... 0.         0.         0.        ]\n",
      " [0.14230758 0.01637877 0.01097404 ... 0.         0.         0.        ]\n",
      " [0.1423067  0.01637877 0.01097404 ... 0.         0.         0.        ]]\n",
      "[0 0 0 ... 1 1 1]\n"
     ]
    }
   ],
   "source": [
    "print(X[10:]) ; print(y[10:])"
   ]
  },
  {
   "cell_type": "code",
   "execution_count": 6,
   "metadata": {},
   "outputs": [
    {
     "data": {
      "text/plain": [
       "array([0, 1])"
      ]
     },
     "execution_count": 6,
     "metadata": {},
     "output_type": "execute_result"
    }
   ],
   "source": [
    "np.unique(y)"
   ]
  },
  {
   "cell_type": "markdown",
   "metadata": {},
   "source": [
    "### Prediction here is malicious or benign"
   ]
  },
  {
   "cell_type": "markdown",
   "metadata": {
    "tags": []
   },
   "source": [
    "#### And based on binary-Y we will build binary-Classifieres first."
   ]
  },
  {
   "cell_type": "markdown",
   "metadata": {},
   "source": [
    "### Read Metadata "
   ]
  },
  {
   "cell_type": "code",
   "execution_count": 7,
   "metadata": {},
   "outputs": [
    {
     "data": {
      "text/html": [
       "<div>\n",
       "<style scoped>\n",
       "    .dataframe tbody tr th:only-of-type {\n",
       "        vertical-align: middle;\n",
       "    }\n",
       "\n",
       "    .dataframe tbody tr th {\n",
       "        vertical-align: top;\n",
       "    }\n",
       "\n",
       "    .dataframe thead th {\n",
       "        text-align: right;\n",
       "    }\n",
       "</style>\n",
       "<table border=\"1\" class=\"dataframe\">\n",
       "  <thead>\n",
       "    <tr style=\"text-align: right;\">\n",
       "      <th></th>\n",
       "      <th>sha</th>\n",
       "      <th>timestamp</th>\n",
       "      <th>family</th>\n",
       "    </tr>\n",
       "  </thead>\n",
       "  <tbody>\n",
       "    <tr>\n",
       "      <th>0</th>\n",
       "      <td>e6d7b4bab32def853ab564410df53fa33172dda1bfd48c...</td>\n",
       "      <td>2007-01-01 08:46:39+00:00</td>\n",
       "      <td>NaN</td>\n",
       "    </tr>\n",
       "    <tr>\n",
       "      <th>1</th>\n",
       "      <td>5af37a058a5bcf2284c183ee98d92b7c66d8f5ce623e92...</td>\n",
       "      <td>2007-01-26 17:16:30+00:00</td>\n",
       "      <td>NaN</td>\n",
       "    </tr>\n",
       "    <tr>\n",
       "      <th>2</th>\n",
       "      <td>5bfbbea150af5cef2d3a93b80ef7c7faea9f564b56045d...</td>\n",
       "      <td>2007-03-21 02:08:53+00:00</td>\n",
       "      <td>NaN</td>\n",
       "    </tr>\n",
       "    <tr>\n",
       "      <th>3</th>\n",
       "      <td>216f592f1e1717d5681b7f5f2b14a28a2f0c603b5b7318...</td>\n",
       "      <td>2007-04-25 12:55:06+00:00</td>\n",
       "      <td>NaN</td>\n",
       "    </tr>\n",
       "    <tr>\n",
       "      <th>4</th>\n",
       "      <td>a1ca76813d2e9e7e23b830c87fbe29bcb51fcbe096e445...</td>\n",
       "      <td>2007-11-14 15:03:55+00:00</td>\n",
       "      <td>NaN</td>\n",
       "    </tr>\n",
       "  </tbody>\n",
       "</table>\n",
       "</div>"
      ],
      "text/plain": [
       "                                                 sha  \\\n",
       "0  e6d7b4bab32def853ab564410df53fa33172dda1bfd48c...   \n",
       "1  5af37a058a5bcf2284c183ee98d92b7c66d8f5ce623e92...   \n",
       "2  5bfbbea150af5cef2d3a93b80ef7c7faea9f564b56045d...   \n",
       "3  216f592f1e1717d5681b7f5f2b14a28a2f0c603b5b7318...   \n",
       "4  a1ca76813d2e9e7e23b830c87fbe29bcb51fcbe096e445...   \n",
       "\n",
       "                   timestamp family  \n",
       "0  2007-01-01 08:46:39+00:00    NaN  \n",
       "1  2007-01-26 17:16:30+00:00    NaN  \n",
       "2  2007-03-21 02:08:53+00:00    NaN  \n",
       "3  2007-04-25 12:55:06+00:00    NaN  \n",
       "4  2007-11-14 15:03:55+00:00    NaN  "
      ]
     },
     "execution_count": 7,
     "metadata": {},
     "output_type": "execute_result"
    }
   ],
   "source": [
    "bodmas_meta = pd.read_csv('bodmas_metadata.csv', parse_dates= ['timestamp'])\n",
    "\n",
    "bodmas_meta.head()"
   ]
  },
  {
   "cell_type": "code",
   "execution_count": 8,
   "metadata": {},
   "outputs": [
    {
     "data": {
      "text/plain": [
       "(array([nan, 'autoit', 'sakurel', 'gupboot', 'juched', 'hpgandcrab',\n",
       "        'fuerboos', 'noancooe', 'skeeyah', 'wacatac', 'mira', 'upatre',\n",
       "        'delfiles', 'ceeinject', 'plugx', 'unruy', 'cambot', 'klez',\n",
       "        'mocrt', 'nitol', 'vb', 'small', 'simda', 'sillyp2p', 'ditertag',\n",
       "        'padodor', 'dinwod', 'fakefolder', 'dofoil', 'mydoom', 'urelas',\n",
       "        'qqpass', 'benjamin', 'gandcrab', 'gepys', 'fearso', 'wanna',\n",
       "        'dorv', 'qlowzones', 'injector', 'qhosts', 'lolbot', 'wabot',\n",
       "        'ganelp', 'malex', 'vobfus', 'systex', 'blocker', 'shifu', 'sytro',\n",
       "        'cuegoe', 'stration', 'occamy', 'trojanx', 'tofsee', 'stormser',\n",
       "        'ainslot', 'vtflooder', 'sfone', 'picsys', 'koceg', 'duptwux',\n",
       "        'simbot', 'obfuscator', 'autinject', 'socks', 'pluto',\n",
       "        'cryptominer', 'plite', 'fuery', 'musecador', 'fareit', 'berbew',\n",
       "        'drolnux', 'lunam', 'floxif', 'zbot', 'netwire', 'grandcrab',\n",
       "        'ursnif', 'msposer', 'autorun', 'soltern', 'mofksys', 'carberp',\n",
       "        'laqma', 'skeeeyah', 'unwaders', 'vflooder', 'yoddos', 'fasong',\n",
       "        'brontok', 'coinminer', 'onlinegames', 'bladabindi', 'pwszbot',\n",
       "        'protux', 'autoitinject', 'palevo', 'ritros', 'agent', 'shampel',\n",
       "        'darkkomet', 'dynamer', 'aenjaris', 'banker', 'quackbot', 'pykspa',\n",
       "        'glupteba', 'histboader', 'salgorea', 'netmail', 'blackfus',\n",
       "        'Unknown', 'reveton', 'yunsip', 'gamarue', 'kirts', 'tiggre',\n",
       "        'cerber', 'klone', 'delf', 'allaple', 'rpcdcom', 'smokeloader',\n",
       "        'delphi', 'installcore', 'virut', 'tescrypt', 'cryptinject',\n",
       "        'eqtonex', 'vmprotbad', 'banload', 'gbot', 'neconyd', 'vbclone',\n",
       "        'revetrat', 'chir', 'systro', 'poison', 'kaicorn', 'fipeg',\n",
       "        'xtrat', 'sessa', 'zegost', 'dustylog', 'hupigon', 'ren',\n",
       "        'androme', 'randrew', 'ipamor', 'vigorf', 'citeary', 'emdup',\n",
       "        'ircbot', 'uacskip', 'facido', 'vbinject', 'nanocore', 'fadok',\n",
       "        'bundpil', 'hpgen', 'gandcrypt', 'bzub', 'cinkel', 'emotet',\n",
       "        'pterodo', 'autoitshellinj', 'bicone', 'botgor', 'win32', 'worm',\n",
       "        'viking', 'emogen', 'fujacks', 'coinstealer', 'black', 'lore',\n",
       "        'vools', 'debris', 'roxer', 'moonlight', 'bitrep', 'agentst',\n",
       "        'bho', 'spiliwan', 'trickster', 'crysan', 'androm',\n",
       "        'explorerhijack', 'redaman', 'korpode', 'atraps', 'bobax', 'bedep',\n",
       "        'kimad', 'creprote', 'kazy', 'dapato', 'omaneat', 'kanav',\n",
       "        'gaobot', 'meterpreter', 'casur', 'rescoms', 'puwaders', 'pariham',\n",
       "        'magania', 'sisbot', 'tinyloader', 'dxmstrt', 'pornoasset',\n",
       "        'shaosmine', 'phishbank', 'phorpiex', 'farfli', 'vilsel', 'tinba',\n",
       "        'bitstealer', 'bankerx', 'miuref', 'xiaobaminer', 'sohana',\n",
       "        'wkysol', 'rifdoor', 'kuluoz', 'virtob', 'vindor', 'aproposmedia',\n",
       "        'downloader', 'sephish', 'alureon', 'trickbot', 'sillyfdc',\n",
       "        'golroted', 'startpage', 'bulta', 'imestartup', 'bancteian',\n",
       "        'agenttesla', 'sixer', 'uphosyfs', 'waski', 'registrydisabler',\n",
       "        'agentdoc', 'fukru', 'bluteal', 'maener', 'flyagent', 'fareitvb',\n",
       "        'ldpinch', 'ppatre', 'discord', 'cardspy', 'tiny', 'ausiv',\n",
       "        'dibizor', 'dyzap', 'gc13003b', 'uwasson', 'quasarrat', 'gi0704e5',\n",
       "        'launcher', 'eggnog', 'lightmoon', 'shipup', 'emelent', 'agen',\n",
       "        'obvod', 'agensla', 'ranos', 'teerac', 'bagsu', 'miniduke',\n",
       "        'asacky', 'capsfin', 'trojan', 'trickybot', 'lydra',\n",
       "        'browserpassview', 'provis', 'autog', 'gravityrat', 'pkeylog',\n",
       "        'nanobot', 'eyestye', 'stealer', 'nymaim', 'starter', 'ulise',\n",
       "        'killfiles', 'gate', 'hpbladabi', 'phoetel', 'madangel',\n",
       "        'gamehack', 'aitinject', 'kryptik', 'redosdru', 'keylogger',\n",
       "        'cenjonsla', 'dridex', 'sivis', 'svhoder', 'daws', 'turkojan',\n",
       "        'coinbitminer', 'cheval', 'icedid', 'dacic', 'xolxo', 'ryuk',\n",
       "        'graftor', 'gendwndrop', 'mewsei', 'cve-2017-0147', 'netstream',\n",
       "        'upantix', 'goznym', 'lamer', 'wannacrypt', 'azorult', 'masson',\n",
       "        'oberal', 'bayrob', 'genasep', 'mansabo', 'krap', 'blamon', 'bq',\n",
       "        'elenoocka', 'dotdo', 'portop', 'flystudio', 'warezov',\n",
       "        'agentwdcr', 'fakeav', 'rebhip', 'banbra', 'emptybuilder', 'miras',\n",
       "        'pidgeon', 'rbot', 'vbkrypt', 'qukart', 'pistolar', 'unknown',\n",
       "        'gigex', 'sysn', 'comisproc', 'imwee', 'neshta', '3636hl13',\n",
       "        'lmir', 'istartsurf', 'scar', 'ming', 'muldrop', 'gc280075',\n",
       "        'shakblades', 'baff', 'cosmu', 'mandaph', 'invader', 'andromeda',\n",
       "        'stormattack', 'blihan', 'vbinder', 'fynloski', 'wacapew',\n",
       "        'userstartup', 'prepscram', 'pakes', 'malagent', 'cabren', 'krol',\n",
       "        'locky', 'vawtrak', 'cryptodef', 'zemot', 'moarider', 'yoof',\n",
       "        'presenoker', 'dalexis', 'nohad', 'verst', 'vundo', 'vbna',\n",
       "        'cleaman', 'nivdort', 'baffec', 'delfinject', 'tockt', 'qakbot',\n",
       "        'clipbanker', 'rimecud', 'darkshell', 'necast', 'asruex',\n",
       "        'limerat', 'senta', 'execution', 'conjar', 'macoute', 'hematite',\n",
       "        'dllcheck', 'matsnu', 'vbot', 'ludbaruma', 'swisyn', 'nofear',\n",
       "        'recodrop', 'dropperx', 'bifrose', 'jacard', 'lokibot', 'blackmon',\n",
       "        'yakes', 'orbus', 'spyeyes', 'tepfer', 'avemaria', 'nabucur',\n",
       "        'prorat', 'jomloon', 'petya', 'agobot', 'pyagst', 'rikihaki',\n",
       "        'agentp', 'dumpy', 'enterak', 'shyape', 'copali', 'swrort',\n",
       "        'dorkbot', 'beebone', 'hancitor', 'killav', 'racealer', 'dwonk',\n",
       "        'dexter', 'sohanad', 'jushed', 'zonidel', 'victy', 'waledac',\n",
       "        'coolvidoor', 'pykse', 'predator', 'fignotok', 'ashify', 'bunitu',\n",
       "        'xorist', 'dorifel', 'xegumumune', 'adload', 'wadhrama', 'cutwail',\n",
       "        'phires', 'electron', 'sagent', 'jigsaw', 'zaccess', 'mintluks',\n",
       "        'netwalker', 'ransomx', 'sockhp', 'firstinj', 'agqr', 'pepm',\n",
       "        'sisproc', 'somhoveran', 'renamer', 'avzx', 'zenpak', 'mokes',\n",
       "        'ulises', 'gyepis', 'bublik', 'pabin', 'alinaos', 'gozi',\n",
       "        'bypassuac', 'sillywnse', 'gamup', 'leivion', 'qbot', 'ymacco',\n",
       "        'ceatrg', 'genasom', 'pasgen', 'njrat', 'ryzerlo', 'toobpug',\n",
       "        'ponystealer', 'loring', 'kwbot', 'cridex', 'danabot',\n",
       "        'torrentlocker', 'ulpm', 'stop', 'revengerat', 'nemptycrypt',\n",
       "        'hpkasidet', 'sirefef', 'generic', 'kapucen', 'almanahe', 'gratem',\n",
       "        'pochi', 'fraudrop', 'midie', 'malautoit', 'spyagent', 'socelars',\n",
       "        'vigua', 'toraldrop', 'agentb', 'ursumdtac', 'formbook',\n",
       "        'malwarex', 'revenge', 'ranumbot', 'ekstak', 'cryptran',\n",
       "        'caynamer', 'gimemo', 'hpcerber', 'aupa', 'kovter', 'bitwall',\n",
       "        'poullight', 'nagoot', 'perseus', 'cosmicduke', 'bandit', 'dcstl',\n",
       "        'hynamer', 'sillysharecopy', 'pcclient', 'cordis', 'dreidel',\n",
       "        'autojhminer', 'nuj', 'foreign', 'bjlog', 'crypterx', 'pcclient2',\n",
       "        'gosys', 'worgtop', 'wmnfrbptjsmib', 'sodinokibi', 'dbot',\n",
       "        'brsecmone', 'lnkwinkap', 'kpot', 'woreflint', 'babonock',\n",
       "        'crysis', 'inject', 'pulcare', 'fleercivet', 'clampi',\n",
       "        'filecrypter', 'malware', 'cobalt', 'trickbotcrypt', 'filecoder',\n",
       "        'filecoderkrypt', 'koobface', 'brsecmon', 'shade', 'wannacry',\n",
       "        'pulobe', 'iyeclore', 'stratnil', 'pkprn', 'wbna', 'finfish',\n",
       "        'bfgt', 'kuhaname'], dtype=object),\n",
       " 582)"
      ]
     },
     "execution_count": 8,
     "metadata": {},
     "output_type": "execute_result"
    }
   ],
   "source": [
    "# Check unique families and their number\n",
    "bodmas_meta.family.unique() , bodmas_meta.family.nunique()"
   ]
  },
  {
   "cell_type": "code",
   "execution_count": 9,
   "metadata": {},
   "outputs": [
    {
     "name": "stdout",
     "output_type": "stream",
     "text": [
      "          family\n",
      "sfone       4729\n",
      "wacatac     4694\n",
      "upatre      3901\n",
      "wabot       3673\n",
      "small       3339\n",
      "ganelp      2232\n",
      "dinwod      2057\n",
      "mira        1960\n",
      "berbew      1749\n",
      "sillyp2p    1616\n"
     ]
    }
   ],
   "source": [
    "# Check number of samples of most common family \n",
    "x = bodmas_meta.family.value_counts().to_frame().head(10)\n",
    "print(x)"
   ]
  },
  {
   "cell_type": "code",
   "execution_count": 10,
   "metadata": {},
   "outputs": [
    {
     "data": {
      "image/png": "[encoded data removed]",
      "text/plain": [
       "<Figure size 1008x432 with 1 Axes>"
      ]
     },
     "metadata": {
      "needs_background": "light"
     },
     "output_type": "display_data"
    }
   ],
   "source": [
    "# Visualize most common family (10)\n",
    "plt.figure(figsize = (14,6))\n",
    "plt.plot(x, color='blue', marker='o', linestyle='dashed',\n",
    "     linewidth=2, markersize=12)\n",
    "plt.show()"
   ]
  },
  {
   "cell_type": "code",
   "execution_count": 11,
   "metadata": {},
   "outputs": [
    {
     "data": {
      "text/html": [
       "<div>\n",
       "<style scoped>\n",
       "    .dataframe tbody tr th:only-of-type {\n",
       "        vertical-align: middle;\n",
       "    }\n",
       "\n",
       "    .dataframe tbody tr th {\n",
       "        vertical-align: top;\n",
       "    }\n",
       "\n",
       "    .dataframe thead th {\n",
       "        text-align: right;\n",
       "    }\n",
       "</style>\n",
       "<table border=\"1\" class=\"dataframe\">\n",
       "  <thead>\n",
       "    <tr style=\"text-align: right;\">\n",
       "      <th></th>\n",
       "      <th>sha</th>\n",
       "      <th>timestamp</th>\n",
       "      <th>family</th>\n",
       "    </tr>\n",
       "  </thead>\n",
       "  <tbody>\n",
       "    <tr>\n",
       "      <th>0</th>\n",
       "      <td>e6d7b4bab32def853ab564410df53fa33172dda1bfd48c...</td>\n",
       "      <td>1167641199000000000</td>\n",
       "      <td>NaN</td>\n",
       "    </tr>\n",
       "    <tr>\n",
       "      <th>1</th>\n",
       "      <td>5af37a058a5bcf2284c183ee98d92b7c66d8f5ce623e92...</td>\n",
       "      <td>1169831790000000000</td>\n",
       "      <td>NaN</td>\n",
       "    </tr>\n",
       "    <tr>\n",
       "      <th>2</th>\n",
       "      <td>5bfbbea150af5cef2d3a93b80ef7c7faea9f564b56045d...</td>\n",
       "      <td>1174442933000000000</td>\n",
       "      <td>NaN</td>\n",
       "    </tr>\n",
       "    <tr>\n",
       "      <th>3</th>\n",
       "      <td>216f592f1e1717d5681b7f5f2b14a28a2f0c603b5b7318...</td>\n",
       "      <td>1177505706000000000</td>\n",
       "      <td>NaN</td>\n",
       "    </tr>\n",
       "    <tr>\n",
       "      <th>4</th>\n",
       "      <td>a1ca76813d2e9e7e23b830c87fbe29bcb51fcbe096e445...</td>\n",
       "      <td>1195052635000000000</td>\n",
       "      <td>NaN</td>\n",
       "    </tr>\n",
       "  </tbody>\n",
       "</table>\n",
       "</div>"
      ],
      "text/plain": [
       "                                                 sha            timestamp  \\\n",
       "0  e6d7b4bab32def853ab564410df53fa33172dda1bfd48c...  1167641199000000000   \n",
       "1  5af37a058a5bcf2284c183ee98d92b7c66d8f5ce623e92...  1169831790000000000   \n",
       "2  5bfbbea150af5cef2d3a93b80ef7c7faea9f564b56045d...  1174442933000000000   \n",
       "3  216f592f1e1717d5681b7f5f2b14a28a2f0c603b5b7318...  1177505706000000000   \n",
       "4  a1ca76813d2e9e7e23b830c87fbe29bcb51fcbe096e445...  1195052635000000000   \n",
       "\n",
       "  family  \n",
       "0    NaN  \n",
       "1    NaN  \n",
       "2    NaN  \n",
       "3    NaN  \n",
       "4    NaN  "
      ]
     },
     "execution_count": 11,
     "metadata": {},
     "output_type": "execute_result"
    }
   ],
   "source": [
    "# Convert timestamp to date\n",
    "bodmas_meta['timestamp'] = pd.to_datetime(bodmas_meta['timestamp'], format = '%Y-%m-%d %H:%M:%S', utc=True).astype(np.int64)\n",
    "bodmas_meta.head()"
   ]
  },
  {
   "cell_type": "code",
   "execution_count": 12,
   "metadata": {},
   "outputs": [
    {
     "name": "stdout",
     "output_type": "stream",
     "text": [
      "<class 'pandas.core.frame.DataFrame'>\n",
      "RangeIndex: 134435 entries, 0 to 134434\n",
      "Data columns (total 3 columns):\n",
      " #   Column     Non-Null Count   Dtype \n",
      "---  ------     --------------   ----- \n",
      " 0   sha        134435 non-null  object\n",
      " 1   timestamp  134435 non-null  int64 \n",
      " 2   family     57293 non-null   object\n",
      "dtypes: int64(1), object(2)\n",
      "memory usage: 3.1+ MB\n"
     ]
    }
   ],
   "source": [
    "bodmas_meta.info()"
   ]
  },
  {
   "cell_type": "code",
   "execution_count": 13,
   "metadata": {},
   "outputs": [
    {
     "data": {
      "text/plain": [
       "sha              0\n",
       "timestamp        0\n",
       "family       77142\n",
       "dtype: int64"
      ]
     },
     "execution_count": 13,
     "metadata": {},
     "output_type": "execute_result"
    }
   ],
   "source": [
    "bodmas_meta.isnull().sum()"
   ]
  },
  {
   "cell_type": "code",
   "execution_count": 14,
   "metadata": {},
   "outputs": [
    {
     "data": {
      "text/html": [
       "<div>\n",
       "<style scoped>\n",
       "    .dataframe tbody tr th:only-of-type {\n",
       "        vertical-align: middle;\n",
       "    }\n",
       "\n",
       "    .dataframe tbody tr th {\n",
       "        vertical-align: top;\n",
       "    }\n",
       "\n",
       "    .dataframe thead th {\n",
       "        text-align: right;\n",
       "    }\n",
       "</style>\n",
       "<table border=\"1\" class=\"dataframe\">\n",
       "  <thead>\n",
       "    <tr style=\"text-align: right;\">\n",
       "      <th></th>\n",
       "      <th>sha</th>\n",
       "      <th>timestamp</th>\n",
       "      <th>family</th>\n",
       "    </tr>\n",
       "  </thead>\n",
       "  <tbody>\n",
       "    <tr>\n",
       "      <th>0</th>\n",
       "      <td>e6d7b4bab32def853ab564410df53fa33172dda1bfd48c...</td>\n",
       "      <td>1167641199000000000</td>\n",
       "      <td>benign</td>\n",
       "    </tr>\n",
       "    <tr>\n",
       "      <th>1</th>\n",
       "      <td>5af37a058a5bcf2284c183ee98d92b7c66d8f5ce623e92...</td>\n",
       "      <td>1169831790000000000</td>\n",
       "      <td>benign</td>\n",
       "    </tr>\n",
       "    <tr>\n",
       "      <th>2</th>\n",
       "      <td>5bfbbea150af5cef2d3a93b80ef7c7faea9f564b56045d...</td>\n",
       "      <td>1174442933000000000</td>\n",
       "      <td>benign</td>\n",
       "    </tr>\n",
       "    <tr>\n",
       "      <th>3</th>\n",
       "      <td>216f592f1e1717d5681b7f5f2b14a28a2f0c603b5b7318...</td>\n",
       "      <td>1177505706000000000</td>\n",
       "      <td>benign</td>\n",
       "    </tr>\n",
       "    <tr>\n",
       "      <th>4</th>\n",
       "      <td>a1ca76813d2e9e7e23b830c87fbe29bcb51fcbe096e445...</td>\n",
       "      <td>1195052635000000000</td>\n",
       "      <td>benign</td>\n",
       "    </tr>\n",
       "  </tbody>\n",
       "</table>\n",
       "</div>"
      ],
      "text/plain": [
       "                                                 sha            timestamp  \\\n",
       "0  e6d7b4bab32def853ab564410df53fa33172dda1bfd48c...  1167641199000000000   \n",
       "1  5af37a058a5bcf2284c183ee98d92b7c66d8f5ce623e92...  1169831790000000000   \n",
       "2  5bfbbea150af5cef2d3a93b80ef7c7faea9f564b56045d...  1174442933000000000   \n",
       "3  216f592f1e1717d5681b7f5f2b14a28a2f0c603b5b7318...  1177505706000000000   \n",
       "4  a1ca76813d2e9e7e23b830c87fbe29bcb51fcbe096e445...  1195052635000000000   \n",
       "\n",
       "   family  \n",
       "0  benign  \n",
       "1  benign  \n",
       "2  benign  \n",
       "3  benign  \n",
       "4  benign  "
      ]
     },
     "execution_count": 14,
     "metadata": {},
     "output_type": "execute_result"
    }
   ],
   "source": [
    "# Replace NAN to benign to clarify as benign\n",
    "bodmas_meta.fillna('benign', inplace= True)\n",
    "bodmas_meta.head()"
   ]
  },
  {
   "cell_type": "code",
   "execution_count": 15,
   "metadata": {},
   "outputs": [
    {
     "name": "stdout",
     "output_type": "stream",
     "text": [
      "                                                      sha  \\\n",
      "134374  d1225074aeb0fd8e565af4981c8c55784452c5fbcd2cbe...   \n",
      "134375  db2ac399e68bec4a9cc6cb2b7b4b7cc3217770c25a1109...   \n",
      "134376  2d2873cf2d4ffa26a784ee0ddb9516f31212f8f0f78495...   \n",
      "134377  ed433bc20720ad788f4f253f9071eaaae3199c0136788c...   \n",
      "134378  3ce93329dd561ddcd122bcfc4369c19ffbd1433ce4927e...   \n",
      "...                                                   ...   \n",
      "134430  1515deebbf3c55e46c1a4168db8cc0c149810e855a5497...   \n",
      "134431  502e1af8f263d74b568f6e08dfb4eb2d4228cdef22109a...   \n",
      "134432  6265ccd5222ed1159000ddcd2b70376a2ed5e3e56795dd...   \n",
      "134433  2d4d2b77020d17418b6de26e5d728ad3a3cc6a6a44ccab...   \n",
      "134434  8ad8b39bcb7fb6b1edb6734c90173dff70850046bae5d3...   \n",
      "\n",
      "                  timestamp     family  \n",
      "134374  1601424000000000000     benign  \n",
      "134375  1601433977000000000    wacatac  \n",
      "134376  1601433980000000000    wacatac  \n",
      "134377  1601433995000000000    wacatac  \n",
      "134378  1601434012000000000  elenoocka  \n",
      "...                     ...        ...  \n",
      "134430  1601435122000000000     autoit  \n",
      "134431  1601435123000000000     autoit  \n",
      "134432  1601435124000000000     autoit  \n",
      "134433  1601435126000000000     autoit  \n",
      "134434  1601435127000000000     autoit  \n",
      "\n",
      "[61 rows x 3 columns]\n",
      "[0 1 1 1 1 1 1 1 1 1 1 1 1 1 1 1 1 1 1 1 1 1 1 1 1 1 1 1 1 1 1 1 1 1 1 1 1\n",
      " 1 1 1 1 1 1 1 1 1 1 1 1 1 1 1 1 1 1 1 1 1 1 1 1]\n"
     ]
    }
   ],
   "source": [
    "# Check (1) in Y here == malware in metadata\n",
    "print(bodmas_meta[-61:])\n",
    "print(y[-61:])"
   ]
  },
  {
   "cell_type": "markdown",
   "metadata": {
    "jp-MarkdownHeadingCollapsed": true,
    "tags": []
   },
   "source": [
    "#### Okay matched"
   ]
  },
  {
   "cell_type": "code",
   "execution_count": 16,
   "metadata": {},
   "outputs": [],
   "source": [
    "# Drop family -- for now.\n",
    "# bodmas_meta.drop('family',axis= 1, inplace= True)"
   ]
  },
  {
   "cell_type": "code",
   "execution_count": 17,
   "metadata": {},
   "outputs": [],
   "source": [
    "# bodmas_meta.head()"
   ]
  },
  {
   "cell_type": "markdown",
   "metadata": {
    "jp-MarkdownHeadingCollapsed": true,
    "tags": []
   },
   "source": [
    "### Merge tiemstamp with appropriate category by sha column."
   ]
  },
  {
   "cell_type": "code",
   "execution_count": 18,
   "metadata": {
    "tags": []
   },
   "outputs": [],
   "source": [
    "### Take just non-null samples for now..\n",
    "#### From Category"
   ]
  },
  {
   "cell_type": "code",
   "execution_count": 19,
   "metadata": {},
   "outputs": [],
   "source": [
    "# Read category data\n",
    "# bodmas_cate = pd.read_csv('bodmas_malware_category.csv')"
   ]
  },
  {
   "cell_type": "code",
   "execution_count": 20,
   "metadata": {},
   "outputs": [],
   "source": [
    "# bodmas_cate.head()"
   ]
  },
  {
   "cell_type": "code",
   "execution_count": 21,
   "metadata": {},
   "outputs": [],
   "source": [
    "# bodmas_cate.info()"
   ]
  },
  {
   "cell_type": "markdown",
   "metadata": {
    "tags": []
   },
   "source": [
    "#### We can see we have only 57293 samples knows family/category..!"
   ]
  },
  {
   "cell_type": "code",
   "execution_count": 22,
   "metadata": {},
   "outputs": [],
   "source": [
    "# # rename sha256 to sha to match with metadata\n",
    "# bodmas_cate.rename(columns= {'sha256' : 'sha'}, inplace= True)"
   ]
  },
  {
   "cell_type": "code",
   "execution_count": 23,
   "metadata": {},
   "outputs": [],
   "source": [
    "# bodmas_cate.head()"
   ]
  },
  {
   "cell_type": "code",
   "execution_count": 24,
   "metadata": {},
   "outputs": [],
   "source": [
    "# bodmas_cate.category.unique()"
   ]
  },
  {
   "cell_type": "code",
   "execution_count": 25,
   "metadata": {},
   "outputs": [],
   "source": [
    "# Combine timestamp from meta with category from bodmas_cate based on sha column\n",
    "# date_cate = pd.merge(bodmas_meta, bodmas_cate, on= 'sha')\n",
    "# date_cate.head()"
   ]
  },
  {
   "cell_type": "code",
   "execution_count": 26,
   "metadata": {},
   "outputs": [],
   "source": [
    "# date_cate.info()"
   ]
  },
  {
   "cell_type": "markdown",
   "metadata": {
    "tags": []
   },
   "source": [
    "### Label Encoding"
   ]
  },
  {
   "cell_type": "code",
   "execution_count": 27,
   "metadata": {},
   "outputs": [],
   "source": [
    "# Transform Family into numeric/labels format\n",
    "le = LabelEncoder()\n",
    "bodmas_meta['family'] = le.fit_transform(bodmas_meta['family'])"
   ]
  },
  {
   "cell_type": "code",
   "execution_count": 28,
   "metadata": {},
   "outputs": [
    {
     "data": {
      "text/html": [
       "<div>\n",
       "<style scoped>\n",
       "    .dataframe tbody tr th:only-of-type {\n",
       "        vertical-align: middle;\n",
       "    }\n",
       "\n",
       "    .dataframe tbody tr th {\n",
       "        vertical-align: top;\n",
       "    }\n",
       "\n",
       "    .dataframe thead th {\n",
       "        text-align: right;\n",
       "    }\n",
       "</style>\n",
       "<table border=\"1\" class=\"dataframe\">\n",
       "  <thead>\n",
       "    <tr style=\"text-align: right;\">\n",
       "      <th></th>\n",
       "      <th>sha</th>\n",
       "      <th>timestamp</th>\n",
       "      <th>family</th>\n",
       "    </tr>\n",
       "  </thead>\n",
       "  <tbody>\n",
       "    <tr>\n",
       "      <th>0</th>\n",
       "      <td>e6d7b4bab32def853ab564410df53fa33172dda1bfd48c...</td>\n",
       "      <td>1167641199000000000</td>\n",
       "      <td>54</td>\n",
       "    </tr>\n",
       "    <tr>\n",
       "      <th>1</th>\n",
       "      <td>5af37a058a5bcf2284c183ee98d92b7c66d8f5ce623e92...</td>\n",
       "      <td>1169831790000000000</td>\n",
       "      <td>54</td>\n",
       "    </tr>\n",
       "    <tr>\n",
       "      <th>2</th>\n",
       "      <td>5bfbbea150af5cef2d3a93b80ef7c7faea9f564b56045d...</td>\n",
       "      <td>1174442933000000000</td>\n",
       "      <td>54</td>\n",
       "    </tr>\n",
       "    <tr>\n",
       "      <th>3</th>\n",
       "      <td>216f592f1e1717d5681b7f5f2b14a28a2f0c603b5b7318...</td>\n",
       "      <td>1177505706000000000</td>\n",
       "      <td>54</td>\n",
       "    </tr>\n",
       "    <tr>\n",
       "      <th>4</th>\n",
       "      <td>a1ca76813d2e9e7e23b830c87fbe29bcb51fcbe096e445...</td>\n",
       "      <td>1195052635000000000</td>\n",
       "      <td>54</td>\n",
       "    </tr>\n",
       "  </tbody>\n",
       "</table>\n",
       "</div>"
      ],
      "text/plain": [
       "                                                 sha            timestamp  \\\n",
       "0  e6d7b4bab32def853ab564410df53fa33172dda1bfd48c...  1167641199000000000   \n",
       "1  5af37a058a5bcf2284c183ee98d92b7c66d8f5ce623e92...  1169831790000000000   \n",
       "2  5bfbbea150af5cef2d3a93b80ef7c7faea9f564b56045d...  1174442933000000000   \n",
       "3  216f592f1e1717d5681b7f5f2b14a28a2f0c603b5b7318...  1177505706000000000   \n",
       "4  a1ca76813d2e9e7e23b830c87fbe29bcb51fcbe096e445...  1195052635000000000   \n",
       "\n",
       "   family  \n",
       "0      54  \n",
       "1      54  \n",
       "2      54  \n",
       "3      54  \n",
       "4      54  "
      ]
     },
     "execution_count": 28,
     "metadata": {},
     "output_type": "execute_result"
    }
   ],
   "source": [
    "bodmas_meta.head()"
   ]
  },
  {
   "cell_type": "code",
   "execution_count": 29,
   "metadata": {},
   "outputs": [],
   "source": [
    "# drop sha column\n",
    "bodmas_meta.drop('sha', axis= 1, inplace= True)"
   ]
  },
  {
   "cell_type": "code",
   "execution_count": 30,
   "metadata": {},
   "outputs": [],
   "source": [
    "bodmas_meta= pd.DataFrame(bodmas_meta)"
   ]
  },
  {
   "cell_type": "code",
   "execution_count": 31,
   "metadata": {},
   "outputs": [
    {
     "data": {
      "text/html": [
       "<div>\n",
       "<style scoped>\n",
       "    .dataframe tbody tr th:only-of-type {\n",
       "        vertical-align: middle;\n",
       "    }\n",
       "\n",
       "    .dataframe tbody tr th {\n",
       "        vertical-align: top;\n",
       "    }\n",
       "\n",
       "    .dataframe thead th {\n",
       "        text-align: right;\n",
       "    }\n",
       "</style>\n",
       "<table border=\"1\" class=\"dataframe\">\n",
       "  <thead>\n",
       "    <tr style=\"text-align: right;\">\n",
       "      <th></th>\n",
       "      <th>0</th>\n",
       "      <th>1</th>\n",
       "      <th>2</th>\n",
       "      <th>3</th>\n",
       "      <th>4</th>\n",
       "      <th>5</th>\n",
       "      <th>6</th>\n",
       "      <th>7</th>\n",
       "      <th>8</th>\n",
       "      <th>9</th>\n",
       "      <th>...</th>\n",
       "      <th>2371</th>\n",
       "      <th>2372</th>\n",
       "      <th>2373</th>\n",
       "      <th>2374</th>\n",
       "      <th>2375</th>\n",
       "      <th>2376</th>\n",
       "      <th>2377</th>\n",
       "      <th>2378</th>\n",
       "      <th>2379</th>\n",
       "      <th>2380</th>\n",
       "    </tr>\n",
       "  </thead>\n",
       "  <tbody>\n",
       "    <tr>\n",
       "      <th>0</th>\n",
       "      <td>0.056742</td>\n",
       "      <td>0.008017</td>\n",
       "      <td>0.007762</td>\n",
       "      <td>0.005466</td>\n",
       "      <td>0.007762</td>\n",
       "      <td>0.004446</td>\n",
       "      <td>0.005430</td>\n",
       "      <td>0.003061</td>\n",
       "      <td>0.009475</td>\n",
       "      <td>0.006305</td>\n",
       "      <td>...</td>\n",
       "      <td>0.0</td>\n",
       "      <td>0.0</td>\n",
       "      <td>0.0</td>\n",
       "      <td>0.0</td>\n",
       "      <td>0.0</td>\n",
       "      <td>0.0</td>\n",
       "      <td>0.0</td>\n",
       "      <td>0.0</td>\n",
       "      <td>0.0</td>\n",
       "      <td>0.0</td>\n",
       "    </tr>\n",
       "    <tr>\n",
       "      <th>1</th>\n",
       "      <td>0.007062</td>\n",
       "      <td>0.004500</td>\n",
       "      <td>0.004498</td>\n",
       "      <td>0.004318</td>\n",
       "      <td>0.004410</td>\n",
       "      <td>0.004330</td>\n",
       "      <td>0.004265</td>\n",
       "      <td>0.004068</td>\n",
       "      <td>0.004391</td>\n",
       "      <td>0.004306</td>\n",
       "      <td>...</td>\n",
       "      <td>0.0</td>\n",
       "      <td>0.0</td>\n",
       "      <td>0.0</td>\n",
       "      <td>0.0</td>\n",
       "      <td>120.0</td>\n",
       "      <td>16564.0</td>\n",
       "      <td>0.0</td>\n",
       "      <td>0.0</td>\n",
       "      <td>0.0</td>\n",
       "      <td>0.0</td>\n",
       "    </tr>\n",
       "    <tr>\n",
       "      <th>2</th>\n",
       "      <td>0.020975</td>\n",
       "      <td>0.004699</td>\n",
       "      <td>0.004002</td>\n",
       "      <td>0.004419</td>\n",
       "      <td>0.004214</td>\n",
       "      <td>0.003865</td>\n",
       "      <td>0.003973</td>\n",
       "      <td>0.004297</td>\n",
       "      <td>0.003921</td>\n",
       "      <td>0.004145</td>\n",
       "      <td>...</td>\n",
       "      <td>0.0</td>\n",
       "      <td>0.0</td>\n",
       "      <td>0.0</td>\n",
       "      <td>0.0</td>\n",
       "      <td>0.0</td>\n",
       "      <td>0.0</td>\n",
       "      <td>0.0</td>\n",
       "      <td>0.0</td>\n",
       "      <td>0.0</td>\n",
       "      <td>0.0</td>\n",
       "    </tr>\n",
       "    <tr>\n",
       "      <th>3</th>\n",
       "      <td>0.006482</td>\n",
       "      <td>0.003821</td>\n",
       "      <td>0.003788</td>\n",
       "      <td>0.003866</td>\n",
       "      <td>0.003734</td>\n",
       "      <td>0.003784</td>\n",
       "      <td>0.003884</td>\n",
       "      <td>0.003937</td>\n",
       "      <td>0.003805</td>\n",
       "      <td>0.003809</td>\n",
       "      <td>...</td>\n",
       "      <td>0.0</td>\n",
       "      <td>0.0</td>\n",
       "      <td>0.0</td>\n",
       "      <td>0.0</td>\n",
       "      <td>140.0</td>\n",
       "      <td>16384.0</td>\n",
       "      <td>0.0</td>\n",
       "      <td>0.0</td>\n",
       "      <td>0.0</td>\n",
       "      <td>0.0</td>\n",
       "    </tr>\n",
       "    <tr>\n",
       "      <th>4</th>\n",
       "      <td>0.022135</td>\n",
       "      <td>0.003972</td>\n",
       "      <td>0.003834</td>\n",
       "      <td>0.003869</td>\n",
       "      <td>0.003759</td>\n",
       "      <td>0.003765</td>\n",
       "      <td>0.003777</td>\n",
       "      <td>0.003863</td>\n",
       "      <td>0.003773</td>\n",
       "      <td>0.003798</td>\n",
       "      <td>...</td>\n",
       "      <td>0.0</td>\n",
       "      <td>0.0</td>\n",
       "      <td>0.0</td>\n",
       "      <td>0.0</td>\n",
       "      <td>0.0</td>\n",
       "      <td>0.0</td>\n",
       "      <td>0.0</td>\n",
       "      <td>0.0</td>\n",
       "      <td>0.0</td>\n",
       "      <td>0.0</td>\n",
       "    </tr>\n",
       "  </tbody>\n",
       "</table>\n",
       "<p>5 rows × 2381 columns</p>\n",
       "</div>"
      ],
      "text/plain": [
       "       0         1         2         3         4         5         6     \\\n",
       "0  0.056742  0.008017  0.007762  0.005466  0.007762  0.004446  0.005430   \n",
       "1  0.007062  0.004500  0.004498  0.004318  0.004410  0.004330  0.004265   \n",
       "2  0.020975  0.004699  0.004002  0.004419  0.004214  0.003865  0.003973   \n",
       "3  0.006482  0.003821  0.003788  0.003866  0.003734  0.003784  0.003884   \n",
       "4  0.022135  0.003972  0.003834  0.003869  0.003759  0.003765  0.003777   \n",
       "\n",
       "       7         8         9     ...  2371  2372  2373  2374   2375     2376  \\\n",
       "0  0.003061  0.009475  0.006305  ...   0.0   0.0   0.0   0.0    0.0      0.0   \n",
       "1  0.004068  0.004391  0.004306  ...   0.0   0.0   0.0   0.0  120.0  16564.0   \n",
       "2  0.004297  0.003921  0.004145  ...   0.0   0.0   0.0   0.0    0.0      0.0   \n",
       "3  0.003937  0.003805  0.003809  ...   0.0   0.0   0.0   0.0  140.0  16384.0   \n",
       "4  0.003863  0.003773  0.003798  ...   0.0   0.0   0.0   0.0    0.0      0.0   \n",
       "\n",
       "   2377  2378  2379  2380  \n",
       "0   0.0   0.0   0.0   0.0  \n",
       "1   0.0   0.0   0.0   0.0  \n",
       "2   0.0   0.0   0.0   0.0  \n",
       "3   0.0   0.0   0.0   0.0  \n",
       "4   0.0   0.0   0.0   0.0  \n",
       "\n",
       "[5 rows x 2381 columns]"
      ]
     },
     "execution_count": 31,
     "metadata": {},
     "output_type": "execute_result"
    }
   ],
   "source": [
    "# Convert ndarray to dataframe\n",
    "X = pd.DataFrame(X)\n",
    "X.head()"
   ]
  },
  {
   "cell_type": "markdown",
   "metadata": {
    "tags": []
   },
   "source": [
    "### Combine timestamp & family with X"
   ]
  },
  {
   "cell_type": "code",
   "execution_count": 32,
   "metadata": {},
   "outputs": [
    {
     "data": {
      "text/html": [
       "<div>\n",
       "<style scoped>\n",
       "    .dataframe tbody tr th:only-of-type {\n",
       "        vertical-align: middle;\n",
       "    }\n",
       "\n",
       "    .dataframe tbody tr th {\n",
       "        vertical-align: top;\n",
       "    }\n",
       "\n",
       "    .dataframe thead th {\n",
       "        text-align: right;\n",
       "    }\n",
       "</style>\n",
       "<table border=\"1\" class=\"dataframe\">\n",
       "  <thead>\n",
       "    <tr style=\"text-align: right;\">\n",
       "      <th></th>\n",
       "      <th>0</th>\n",
       "      <th>1</th>\n",
       "      <th>2</th>\n",
       "      <th>3</th>\n",
       "      <th>4</th>\n",
       "      <th>5</th>\n",
       "      <th>6</th>\n",
       "      <th>7</th>\n",
       "      <th>8</th>\n",
       "      <th>9</th>\n",
       "      <th>...</th>\n",
       "      <th>2373</th>\n",
       "      <th>2374</th>\n",
       "      <th>2375</th>\n",
       "      <th>2376</th>\n",
       "      <th>2377</th>\n",
       "      <th>2378</th>\n",
       "      <th>2379</th>\n",
       "      <th>2380</th>\n",
       "      <th>2381</th>\n",
       "      <th>2382</th>\n",
       "    </tr>\n",
       "  </thead>\n",
       "  <tbody>\n",
       "    <tr>\n",
       "      <th>134430</th>\n",
       "      <td>0.065420</td>\n",
       "      <td>0.005993</td>\n",
       "      <td>0.005216</td>\n",
       "      <td>0.005492</td>\n",
       "      <td>0.005747</td>\n",
       "      <td>0.004183</td>\n",
       "      <td>0.005373</td>\n",
       "      <td>0.004388</td>\n",
       "      <td>0.005619</td>\n",
       "      <td>0.004121</td>\n",
       "      <td>...</td>\n",
       "      <td>0.0</td>\n",
       "      <td>0.0</td>\n",
       "      <td>0.0</td>\n",
       "      <td>0.0</td>\n",
       "      <td>0.0</td>\n",
       "      <td>0.0</td>\n",
       "      <td>0.0</td>\n",
       "      <td>0.0</td>\n",
       "      <td>1601435122000000000</td>\n",
       "      <td>33</td>\n",
       "    </tr>\n",
       "    <tr>\n",
       "      <th>134431</th>\n",
       "      <td>0.065421</td>\n",
       "      <td>0.005993</td>\n",
       "      <td>0.005216</td>\n",
       "      <td>0.005492</td>\n",
       "      <td>0.005747</td>\n",
       "      <td>0.004183</td>\n",
       "      <td>0.005373</td>\n",
       "      <td>0.004388</td>\n",
       "      <td>0.005617</td>\n",
       "      <td>0.004121</td>\n",
       "      <td>...</td>\n",
       "      <td>0.0</td>\n",
       "      <td>0.0</td>\n",
       "      <td>0.0</td>\n",
       "      <td>0.0</td>\n",
       "      <td>0.0</td>\n",
       "      <td>0.0</td>\n",
       "      <td>0.0</td>\n",
       "      <td>0.0</td>\n",
       "      <td>1601435123000000000</td>\n",
       "      <td>33</td>\n",
       "    </tr>\n",
       "    <tr>\n",
       "      <th>134432</th>\n",
       "      <td>0.142307</td>\n",
       "      <td>0.016379</td>\n",
       "      <td>0.010974</td>\n",
       "      <td>0.005991</td>\n",
       "      <td>0.009369</td>\n",
       "      <td>0.005670</td>\n",
       "      <td>0.003335</td>\n",
       "      <td>0.003099</td>\n",
       "      <td>0.009761</td>\n",
       "      <td>0.002385</td>\n",
       "      <td>...</td>\n",
       "      <td>0.0</td>\n",
       "      <td>0.0</td>\n",
       "      <td>2180.0</td>\n",
       "      <td>585728.0</td>\n",
       "      <td>0.0</td>\n",
       "      <td>0.0</td>\n",
       "      <td>0.0</td>\n",
       "      <td>0.0</td>\n",
       "      <td>1601435124000000000</td>\n",
       "      <td>33</td>\n",
       "    </tr>\n",
       "    <tr>\n",
       "      <th>134433</th>\n",
       "      <td>0.142308</td>\n",
       "      <td>0.016379</td>\n",
       "      <td>0.010974</td>\n",
       "      <td>0.005991</td>\n",
       "      <td>0.009369</td>\n",
       "      <td>0.005670</td>\n",
       "      <td>0.003335</td>\n",
       "      <td>0.003099</td>\n",
       "      <td>0.009761</td>\n",
       "      <td>0.002386</td>\n",
       "      <td>...</td>\n",
       "      <td>0.0</td>\n",
       "      <td>0.0</td>\n",
       "      <td>2180.0</td>\n",
       "      <td>585728.0</td>\n",
       "      <td>0.0</td>\n",
       "      <td>0.0</td>\n",
       "      <td>0.0</td>\n",
       "      <td>0.0</td>\n",
       "      <td>1601435126000000000</td>\n",
       "      <td>33</td>\n",
       "    </tr>\n",
       "    <tr>\n",
       "      <th>134434</th>\n",
       "      <td>0.142307</td>\n",
       "      <td>0.016379</td>\n",
       "      <td>0.010974</td>\n",
       "      <td>0.005991</td>\n",
       "      <td>0.009369</td>\n",
       "      <td>0.005670</td>\n",
       "      <td>0.003335</td>\n",
       "      <td>0.003099</td>\n",
       "      <td>0.009761</td>\n",
       "      <td>0.002385</td>\n",
       "      <td>...</td>\n",
       "      <td>0.0</td>\n",
       "      <td>0.0</td>\n",
       "      <td>2180.0</td>\n",
       "      <td>585728.0</td>\n",
       "      <td>0.0</td>\n",
       "      <td>0.0</td>\n",
       "      <td>0.0</td>\n",
       "      <td>0.0</td>\n",
       "      <td>1601435127000000000</td>\n",
       "      <td>33</td>\n",
       "    </tr>\n",
       "  </tbody>\n",
       "</table>\n",
       "<p>5 rows × 2383 columns</p>\n",
       "</div>"
      ],
      "text/plain": [
       "            0         1         2         3         4         5         6     \\\n",
       "134430  0.065420  0.005993  0.005216  0.005492  0.005747  0.004183  0.005373   \n",
       "134431  0.065421  0.005993  0.005216  0.005492  0.005747  0.004183  0.005373   \n",
       "134432  0.142307  0.016379  0.010974  0.005991  0.009369  0.005670  0.003335   \n",
       "134433  0.142308  0.016379  0.010974  0.005991  0.009369  0.005670  0.003335   \n",
       "134434  0.142307  0.016379  0.010974  0.005991  0.009369  0.005670  0.003335   \n",
       "\n",
       "            7         8         9     ...  2373  2374    2375      2376  2377  \\\n",
       "134430  0.004388  0.005619  0.004121  ...   0.0   0.0     0.0       0.0   0.0   \n",
       "134431  0.004388  0.005617  0.004121  ...   0.0   0.0     0.0       0.0   0.0   \n",
       "134432  0.003099  0.009761  0.002385  ...   0.0   0.0  2180.0  585728.0   0.0   \n",
       "134433  0.003099  0.009761  0.002386  ...   0.0   0.0  2180.0  585728.0   0.0   \n",
       "134434  0.003099  0.009761  0.002385  ...   0.0   0.0  2180.0  585728.0   0.0   \n",
       "\n",
       "        2378  2379  2380                 2381  2382  \n",
       "134430   0.0   0.0   0.0  1601435122000000000    33  \n",
       "134431   0.0   0.0   0.0  1601435123000000000    33  \n",
       "134432   0.0   0.0   0.0  1601435124000000000    33  \n",
       "134433   0.0   0.0   0.0  1601435126000000000    33  \n",
       "134434   0.0   0.0   0.0  1601435127000000000    33  \n",
       "\n",
       "[5 rows x 2383 columns]"
      ]
     },
     "execution_count": 32,
     "metadata": {},
     "output_type": "execute_result"
    }
   ],
   "source": [
    "# res = [X, timestamp]\n",
    "new_X = pd.concat([X, bodmas_meta], axis=1, ignore_index=True, sort=False)\n",
    "# X.tail()\n",
    "\n",
    "\n",
    "# X = X.append(timestamp)\n",
    "new_X.tail()"
   ]
  },
  {
   "cell_type": "code",
   "execution_count": 33,
   "metadata": {},
   "outputs": [
    {
     "data": {
      "text/plain": [
       "(134435, 134435, 134435)"
      ]
     },
     "execution_count": 33,
     "metadata": {},
     "output_type": "execute_result"
    }
   ],
   "source": [
    "len(X), len(bodmas_meta), len(new_X)"
   ]
  },
  {
   "cell_type": "code",
   "execution_count": 34,
   "metadata": {},
   "outputs": [
    {
     "data": {
      "text/plain": [
       "0       0\n",
       "1       0\n",
       "2       0\n",
       "3       0\n",
       "4       0\n",
       "       ..\n",
       "2378    0\n",
       "2379    0\n",
       "2380    0\n",
       "2381    0\n",
       "2382    0\n",
       "Length: 2383, dtype: int64"
      ]
     },
     "execution_count": 34,
     "metadata": {},
     "output_type": "execute_result"
    }
   ],
   "source": [
    "# Check Nulls\n",
    "new_X.isnull().sum()"
   ]
  },
  {
   "cell_type": "markdown",
   "metadata": {
    "id": "A0p_SHngs92J",
    "jp-MarkdownHeadingCollapsed": true,
    "tags": []
   },
   "source": [
    "### Split dataset to : \n",
    "X_train, y_train, X_test, y_test"
   ]
  },
  {
   "cell_type": "code",
   "execution_count": 35,
   "metadata": {
    "colab": {
     "base_uri": "https://localhost:8080/"
    },
    "id": "e2gCQ0wNyl1b",
    "outputId": "f867ebec-b4e0-4e53-f841-a2b59056bd85"
   },
   "outputs": [
    {
     "name": "stdout",
     "output_type": "stream",
     "text": [
      "(107548, 2381) (107548,)\n",
      "(26887, 2381) (26887,)\n",
      "(107548, 2383) (107548,)\n",
      "(26887, 2383) (26887,)\n"
     ]
    }
   ],
   "source": [
    "from sklearn.model_selection import train_test_split\n",
    "\n",
    "# Create the training and test sets with meta and without meta\n",
    "X_train, X_test, y_train, y_test = train_test_split(X, y, test_size= 0.2, stratify= y, random_state= seed)\n",
    "\n",
    "X_train_, X_test_, y_train_, y_test_ = train_test_split(new_X, y, test_size= 0.2, stratify= y, random_state= seed)\n",
    "\n",
    "print(X_train.shape, y_train.shape)\n",
    "print(X_test.shape, y_test.shape)\n",
    "\n",
    "print(X_train_.shape, y_train_.shape)\n",
    "print(X_test_.shape, y_test_.shape)"
   ]
  },
  {
   "cell_type": "markdown",
   "metadata": {
    "id": "hAXCVlFlu2Lp",
    "jp-MarkdownHeadingCollapsed": true,
    "tags": []
   },
   "source": [
    "### Train Base-Model"
   ]
  },
  {
   "cell_type": "code",
   "execution_count": 36,
   "metadata": {
    "colab": {
     "base_uri": "https://localhost:8080/"
    },
    "id": "pmjv9gk3y_Cb",
    "outputId": "c54d5ca6-9a00-40cd-9cfb-f40373d18e15",
    "scrolled": true,
    "tags": []
   },
   "outputs": [
    {
     "data": {
      "text/plain": [
       "LogisticRegression(random_state=44)"
      ]
     },
     "execution_count": 36,
     "metadata": {},
     "output_type": "execute_result"
    }
   ],
   "source": [
    "# Set the base model..\n",
    "logReg = LogisticRegression(random_state = seed)\n",
    "\n",
    "# Fit the training dataset\n",
    "logReg.fit(X_train, y_train)"
   ]
  },
  {
   "cell_type": "code",
   "execution_count": 37,
   "metadata": {
    "tags": []
   },
   "outputs": [
    {
     "data": {
      "text/plain": [
       "LogisticRegression(random_state=44)"
      ]
     },
     "execution_count": 37,
     "metadata": {},
     "output_type": "execute_result"
    }
   ],
   "source": [
    "# Set the base model with Meta..\n",
    "logReg_ = LogisticRegression(random_state = seed)\n",
    "\n",
    "# Fit the training dataset\n",
    "logReg_.fit(X_train_, y_train_)"
   ]
  },
  {
   "cell_type": "markdown",
   "metadata": {
    "id": "18xFlZ4HxxF-",
    "tags": []
   },
   "source": [
    "#### Evaluate Logistic Regression Without Metadata"
   ]
  },
  {
   "cell_type": "code",
   "execution_count": 38,
   "metadata": {
    "colab": {
     "base_uri": "https://localhost:8080/"
    },
    "id": "KtjfkPixv0Jp",
    "outputId": "0eea2100-503d-4280-b53c-d529a3103ef9",
    "tags": []
   },
   "outputs": [
    {
     "name": "stdout",
     "output_type": "stream",
     "text": [
      "Mean accuracy in Train dataset : 0.730092609811433\n",
      "Mean accuracy in Test dataset : 0.7313199687581359\n"
     ]
    }
   ],
   "source": [
    "# Mean accuracy in train\n",
    "print('Mean accuracy in Train dataset :', logReg.score(X_train, y_train))\n",
    "# Mean accuracy in test\n",
    "print('Mean accuracy in Test dataset :', logReg.score(X_test, y_test))"
   ]
  },
  {
   "cell_type": "markdown",
   "metadata": {},
   "source": [
    "#### Evaluate Logistic Regression With Metadata"
   ]
  },
  {
   "cell_type": "code",
   "execution_count": 40,
   "metadata": {},
   "outputs": [
    {
     "name": "stdout",
     "output_type": "stream",
     "text": [
      "Mean accuracy in Train dataset : 0.5738275002789452\n",
      "Mean accuracy in Test dataset : 0.5738089039312679\n"
     ]
    }
   ],
   "source": [
    "# Mean accuracy in train\n",
    "print('Mean accuracy in Train dataset :', logReg_.score(X_train_, y_train_))\n",
    "# Mean accuracy in test\n",
    "print('Mean accuracy in Test dataset :', logReg_.score(X_test_, y_test_))"
   ]
  },
  {
   "cell_type": "markdown",
   "metadata": {
    "id": "TMsRrk2Ezivi"
   },
   "source": [
    "That's fair ! "
   ]
  },
  {
   "cell_type": "code",
   "execution_count": 41,
   "metadata": {
    "colab": {
     "base_uri": "https://localhost:8080/"
    },
    "id": "p31wa6cEv0PC",
    "outputId": "3cfd58c0-4585-4e25-d4e7-772929f338c4"
   },
   "outputs": [],
   "source": [
    "# Evaluate accuracy_score\n",
    "def Accuracy(model,X_test, y_test):\n",
    "    # Compute y_pred\n",
    "    y_pred = model.predict(X_test)\n",
    "    predictions = [round(prediction) for prediction in y_pred]\n",
    "    # Compute mse_dt\n",
    "    logScore = accuracy_score(y_test, predictions)\n",
    "    # Print \n",
    "    return print(\"Accuracy score for Model : {:.2f}\".format(logScore))"
   ]
  },
  {
   "cell_type": "code",
   "execution_count": 42,
   "metadata": {},
   "outputs": [
    {
     "name": "stdout",
     "output_type": "stream",
     "text": [
      "Accuracy score for Model : 0.73\n"
     ]
    }
   ],
   "source": [
    "Accuracy(logReg, X_test, y_test)"
   ]
  },
  {
   "cell_type": "code",
   "execution_count": 43,
   "metadata": {},
   "outputs": [
    {
     "name": "stdout",
     "output_type": "stream",
     "text": [
      "Accuracy score for Model : 0.57\n"
     ]
    }
   ],
   "source": [
    "Accuracy(logReg_, X_test_, y_test_)"
   ]
  },
  {
   "cell_type": "markdown",
   "metadata": {
    "tags": []
   },
   "source": [
    "##### Finish Base Model.."
   ]
  },
  {
   "cell_type": "markdown",
   "metadata": {},
   "source": [
    "We can see logistic Regression not benefit from Metadata(timestamp and labels of family)"
   ]
  },
  {
   "cell_type": "markdown",
   "metadata": {
    "tags": []
   },
   "source": [
    "### Voting Classifiers (Binary) >:"
   ]
  },
  {
   "cell_type": "code",
   "execution_count": 44,
   "metadata": {},
   "outputs": [],
   "source": [
    "# Instantiate knn\n",
    "knn = KNeighborsClassifier(n_neighbors=27)\n",
    "\n",
    "# Instantiate dt\n",
    "dt = DecisionTreeClassifier(min_samples_leaf=0.13, random_state=seed)\n",
    "\n",
    "# Define the list classifiers\n",
    "classifiers = [('Logistic Regression', logReg), ('K Nearest Neighbours', knn), ('Classification Tree', dt)]"
   ]
  },
  {
   "cell_type": "code",
   "execution_count": 45,
   "metadata": {},
   "outputs": [
    {
     "name": "stdout",
     "output_type": "stream",
     "text": [
      "Logistic Regression : 0.731\n",
      "K Nearest Neighbours : 0.948\n",
      "Classification Tree : 0.824\n"
     ]
    }
   ],
   "source": [
    "# Without Metadata\n",
    "# Iterate over the pre-defined list of classifiers \n",
    "for clf_name, clf in classifiers:    \n",
    "\n",
    "    # Fit clf to the training set\n",
    "    clf.fit(X_train, y_train)    \n",
    "\n",
    "    # Predict y_pred\n",
    "    y_pred = clf.predict(X_test)\n",
    "\n",
    "    # Calculate accuracy\n",
    "    accuracy = accuracy_score(y_test, y_pred) \n",
    "\n",
    "    # Evaluate clf's accuracy on the test set\n",
    "    print('{:s} : {:.3f}'.format(clf_name, accuracy))"
   ]
  },
  {
   "cell_type": "code",
   "execution_count": 46,
   "metadata": {},
   "outputs": [
    {
     "name": "stdout",
     "output_type": "stream",
     "text": [
      "Logistic Regression : 0.574\n",
      "K Nearest Neighbours : 0.995\n",
      "Classification Tree : 0.979\n"
     ]
    }
   ],
   "source": [
    "# With Meta\n",
    "# Iterate over the pre-defined list of classifiers\n",
    "for clf_name, clf in classifiers:    \n",
    "\n",
    "    # Fit clf to the training set\n",
    "    clf.fit(X_train_, y_train_)    \n",
    "\n",
    "    # Predict y_pred\n",
    "    y_pred = clf.predict(X_test_)\n",
    "\n",
    "    # Calculate accuracy\n",
    "    accuracy = accuracy_score(y_test_, y_pred) \n",
    "\n",
    "    # Evaluate clf's accuracy on the test set\n",
    "    print('{:s} : {:.3f}'.format(clf_name, accuracy))"
   ]
  },
  {
   "cell_type": "markdown",
   "metadata": {},
   "source": [
    "#### FANTASTIC !"
   ]
  },
  {
   "cell_type": "code",
   "execution_count": 47,
   "metadata": {},
   "outputs": [
    {
     "name": "stdout",
     "output_type": "stream",
     "text": [
      "Accuracy score for Model : 0.90\n"
     ]
    }
   ],
   "source": [
    "# Without Metadata\n",
    "# Instantiate a VotingClassifier vc\n",
    "vc = VotingClassifier(estimators=classifiers)     \n",
    "\n",
    "# Fit vc to the training set\n",
    "vc.fit(X_train, y_train)\n",
    "\n",
    "# Calculate accuracy score\n",
    "Accuracy(vc, X_test, y_test)"
   ]
  },
  {
   "cell_type": "code",
   "execution_count": 48,
   "metadata": {},
   "outputs": [
    {
     "name": "stdout",
     "output_type": "stream",
     "text": [
      "Accuracy score for Model : 0.98\n"
     ]
    }
   ],
   "source": [
    "# With Metadata\n",
    "# Instantiate a VotingClassifier vc\n",
    "vc = VotingClassifier(estimators=classifiers)     \n",
    "\n",
    "# Fit vc to the training set\n",
    "vc.fit(X_train_, y_train_)\n",
    "\n",
    "# Calculate accuracy score\n",
    "Accuracy(vc, X_test_, y_test_)"
   ]
  },
  {
   "cell_type": "markdown",
   "metadata": {},
   "source": [
    "#### AMAZING ..!"
   ]
  },
  {
   "cell_type": "markdown",
   "metadata": {},
   "source": [
    "#### We can see most Binary-Models benefit from Metadata like(VotingClassifier, K Nearest Neighbours, Classification Tree)\n",
    "##### MultiClass Models..."
   ]
  }
 ],
 "metadata": {
  "colab": {
   "collapsed_sections": [],
   "name": "PE-Detection.ipynb",
   "provenance": []
  },
  "kernelspec": {
   "display_name": "Python 3",
   "language": "python",
   "name": "python3"
  },
  "language_info": {
   "codemirror_mode": {
    "name": "ipython",
    "version": 3
   },
   "file_extension": ".py",
   "mimetype": "text/x-python",
   "name": "python",
   "nbconvert_exporter": "python",
   "pygments_lexer": "ipython3",
   "version": "3.8.8"
  }
 },
 "nbformat": 4,
 "nbformat_minor": 4
}
