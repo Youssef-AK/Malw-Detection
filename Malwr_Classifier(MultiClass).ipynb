{
 "cells": [
  {
   "cell_type": "markdown",
   "metadata": {
    "id": "tG64o1TmzQBh"
   },
   "source": [
    "# Reference\n",
    "**Paper** : \n",
    "https://liminyang.web.illinois.edu/data/DLS21_BODMAS.pdf\n",
    "\n",
    "**Website** : \n",
    "https://whyisyoung.github.io/BODMAS/\n",
    "\n",
    "**Drive** : \n",
    "https://drive.google.com/drive/folders/1Uf-LebLWyi9eCv97iBal7kL1NgiGEsv_\n"
   ]
  },
  {
   "cell_type": "markdown",
   "metadata": {
    "tags": []
   },
   "source": [
    "### Import required Modules"
   ]
  },
  {
   "cell_type": "code",
   "execution_count": 91,
   "metadata": {
    "id": "chvc-hgDudLG"
   },
   "outputs": [],
   "source": [
    "import numpy as np\n",
    "import pandas as pd\n",
    "\n",
    "# Visualization\n",
    "import matplotlib.pyplot as plt\n",
    "import seaborn as sns\n",
    "\n",
    "\n",
    "# Preprocessing\n",
    "from sklearn.preprocessing import LabelEncoder\n",
    "from sklearn.preprocessing import MinMaxScaler\n",
    "\n",
    "\n",
    "# Modeling\n",
    "from sklearn.linear_model import LogisticRegression\n",
    "# Ensemble Models and CLF-Voting\n",
    "from sklearn.neighbors import KNeighborsClassifier\n",
    "from sklearn.tree import DecisionTreeClassifier\n",
    "from sklearn.ensemble import VotingClassifier\n",
    "\n",
    "from sklearn.naive_bayes import MultinomialNB, CategoricalNB, GaussianNB\n",
    "from sklearn.multiclass import OneVsRestClassifier\n",
    "from sklearn.ensemble import RandomForestClassifier\n",
    "from sklearn.linear_model import SGDClassifier\n",
    "\n",
    "\n",
    "\n",
    "import xgboost as xgb\n",
    "from xgboost import XGBClassifier\n",
    "\n",
    "\n",
    "# Evaluation\n",
    "from sklearn.metrics import accuracy_score, precision_score, recall_score\n",
    "\n",
    "\n",
    "%matplotlib inline\n",
    "\n",
    "import warnings\n",
    "warnings.filterwarnings('ignore')\n",
    "\n",
    "# Set seed for reproducibility\n",
    "seed = 44"
   ]
  },
  {
   "cell_type": "markdown",
   "metadata": {
    "tags": []
   },
   "source": [
    "### Load our Feature-Vectors"
   ]
  },
  {
   "cell_type": "code",
   "execution_count": 92,
   "metadata": {
    "colab": {
     "base_uri": "https://localhost:8080/"
    },
    "id": "LLdYmaQ8w3tY",
    "outputId": "2e6699b6-da63-46c0-b1a7-c8b2111cd2c4"
   },
   "outputs": [
    {
     "data": {
      "text/plain": [
       "<numpy.lib.npyio.NpzFile at 0x1714b9721f0>"
      ]
     },
     "execution_count": 92,
     "metadata": {},
     "output_type": "execute_result"
    }
   ],
   "source": [
    "bodMas = 'bodmas.npz'\n",
    "bodMas_df = np.load(bodMas)\n",
    "\n",
    "bodMas_df"
   ]
  },
  {
   "cell_type": "code",
   "execution_count": 93,
   "metadata": {
    "colab": {
     "base_uri": "https://localhost:8080/"
    },
    "id": "xzrmNEUexjI7",
    "outputId": "957ffe8f-a809-4882-f92b-4bdd39885b35"
   },
   "outputs": [
    {
     "data": {
      "text/plain": [
       "['X', 'y']"
      ]
     },
     "execution_count": 93,
     "metadata": {},
     "output_type": "execute_result"
    }
   ],
   "source": [
    "bodMas_df.files"
   ]
  },
  {
   "cell_type": "code",
   "execution_count": 94,
   "metadata": {
    "colab": {
     "base_uri": "https://localhost:8080/"
    },
    "id": "mdc-XD7exuYJ",
    "outputId": "65de9eb5-8d18-429e-af32-76f6846b97d1"
   },
   "outputs": [
    {
     "name": "stdout",
     "output_type": "stream",
     "text": [
      "(134435, 2381) (134435,)\n"
     ]
    }
   ],
   "source": [
    "# Identify X & y\n",
    "X = bodMas_df['X']\n",
    "y = bodMas_df['y']\n",
    "\n",
    "print(X.shape, y.shape)"
   ]
  },
  {
   "cell_type": "code",
   "execution_count": 95,
   "metadata": {},
   "outputs": [
    {
     "name": "stdout",
     "output_type": "stream",
     "text": [
      "[[0.12141006 0.00910332 0.00467501 ... 0.         0.         0.        ]\n",
      " [0.18317465 0.04973748 0.00886418 ... 0.         0.         0.        ]\n",
      " [0.7121212  0.01136364 0.01515152 ... 0.         0.         0.        ]\n",
      " ...\n",
      " [0.1423067  0.01637877 0.01097404 ... 0.         0.         0.        ]\n",
      " [0.14230758 0.01637877 0.01097404 ... 0.         0.         0.        ]\n",
      " [0.1423067  0.01637877 0.01097404 ... 0.         0.         0.        ]]\n",
      "[0 0 0 ... 1 1 1]\n"
     ]
    }
   ],
   "source": [
    "print(X[10:]) ; print(y[10:])"
   ]
  },
  {
   "cell_type": "code",
   "execution_count": 96,
   "metadata": {},
   "outputs": [
    {
     "data": {
      "text/plain": [
       "array([0, 1])"
      ]
     },
     "execution_count": 96,
     "metadata": {},
     "output_type": "execute_result"
    }
   ],
   "source": [
    "np.unique(y)"
   ]
  },
  {
   "cell_type": "markdown",
   "metadata": {},
   "source": [
    "### Prediction here is malicious or benign"
   ]
  },
  {
   "cell_type": "markdown",
   "metadata": {
    "tags": []
   },
   "source": [
    "#### And based on binary-Y we will build binary-Classifieres first."
   ]
  },
  {
   "cell_type": "markdown",
   "metadata": {},
   "source": [
    "### Read Metadata "
   ]
  },
  {
   "cell_type": "code",
   "execution_count": 97,
   "metadata": {},
   "outputs": [
    {
     "data": {
      "text/html": [
       "<div>\n",
       "<style scoped>\n",
       "    .dataframe tbody tr th:only-of-type {\n",
       "        vertical-align: middle;\n",
       "    }\n",
       "\n",
       "    .dataframe tbody tr th {\n",
       "        vertical-align: top;\n",
       "    }\n",
       "\n",
       "    .dataframe thead th {\n",
       "        text-align: right;\n",
       "    }\n",
       "</style>\n",
       "<table border=\"1\" class=\"dataframe\">\n",
       "  <thead>\n",
       "    <tr style=\"text-align: right;\">\n",
       "      <th></th>\n",
       "      <th>sha</th>\n",
       "      <th>timestamp</th>\n",
       "      <th>family</th>\n",
       "    </tr>\n",
       "  </thead>\n",
       "  <tbody>\n",
       "    <tr>\n",
       "      <th>0</th>\n",
       "      <td>e6d7b4bab32def853ab564410df53fa33172dda1bfd48c...</td>\n",
       "      <td>2007-01-01 08:46:39+00:00</td>\n",
       "      <td>NaN</td>\n",
       "    </tr>\n",
       "    <tr>\n",
       "      <th>1</th>\n",
       "      <td>5af37a058a5bcf2284c183ee98d92b7c66d8f5ce623e92...</td>\n",
       "      <td>2007-01-26 17:16:30+00:00</td>\n",
       "      <td>NaN</td>\n",
       "    </tr>\n",
       "    <tr>\n",
       "      <th>2</th>\n",
       "      <td>5bfbbea150af5cef2d3a93b80ef7c7faea9f564b56045d...</td>\n",
       "      <td>2007-03-21 02:08:53+00:00</td>\n",
       "      <td>NaN</td>\n",
       "    </tr>\n",
       "    <tr>\n",
       "      <th>3</th>\n",
       "      <td>216f592f1e1717d5681b7f5f2b14a28a2f0c603b5b7318...</td>\n",
       "      <td>2007-04-25 12:55:06+00:00</td>\n",
       "      <td>NaN</td>\n",
       "    </tr>\n",
       "    <tr>\n",
       "      <th>4</th>\n",
       "      <td>a1ca76813d2e9e7e23b830c87fbe29bcb51fcbe096e445...</td>\n",
       "      <td>2007-11-14 15:03:55+00:00</td>\n",
       "      <td>NaN</td>\n",
       "    </tr>\n",
       "  </tbody>\n",
       "</table>\n",
       "</div>"
      ],
      "text/plain": [
       "                                                 sha  \\\n",
       "0  e6d7b4bab32def853ab564410df53fa33172dda1bfd48c...   \n",
       "1  5af37a058a5bcf2284c183ee98d92b7c66d8f5ce623e92...   \n",
       "2  5bfbbea150af5cef2d3a93b80ef7c7faea9f564b56045d...   \n",
       "3  216f592f1e1717d5681b7f5f2b14a28a2f0c603b5b7318...   \n",
       "4  a1ca76813d2e9e7e23b830c87fbe29bcb51fcbe096e445...   \n",
       "\n",
       "                   timestamp family  \n",
       "0  2007-01-01 08:46:39+00:00    NaN  \n",
       "1  2007-01-26 17:16:30+00:00    NaN  \n",
       "2  2007-03-21 02:08:53+00:00    NaN  \n",
       "3  2007-04-25 12:55:06+00:00    NaN  \n",
       "4  2007-11-14 15:03:55+00:00    NaN  "
      ]
     },
     "execution_count": 97,
     "metadata": {},
     "output_type": "execute_result"
    }
   ],
   "source": [
    "bodmas_meta = pd.read_csv('bodmas_metadata.csv', parse_dates= ['timestamp'])\n",
    "\n",
    "bodmas_meta.head()"
   ]
  },
  {
   "cell_type": "code",
   "execution_count": 98,
   "metadata": {},
   "outputs": [
    {
     "data": {
      "text/plain": [
       "(array([nan, 'autoit', 'sakurel', 'gupboot', 'juched', 'hpgandcrab',\n",
       "        'fuerboos', 'noancooe', 'skeeyah', 'wacatac', 'mira', 'upatre',\n",
       "        'delfiles', 'ceeinject', 'plugx', 'unruy', 'cambot', 'klez',\n",
       "        'mocrt', 'nitol', 'vb', 'small', 'simda', 'sillyp2p', 'ditertag',\n",
       "        'padodor', 'dinwod', 'fakefolder', 'dofoil', 'mydoom', 'urelas',\n",
       "        'qqpass', 'benjamin', 'gandcrab', 'gepys', 'fearso', 'wanna',\n",
       "        'dorv', 'qlowzones', 'injector', 'qhosts', 'lolbot', 'wabot',\n",
       "        'ganelp', 'malex', 'vobfus', 'systex', 'blocker', 'shifu', 'sytro',\n",
       "        'cuegoe', 'stration', 'occamy', 'trojanx', 'tofsee', 'stormser',\n",
       "        'ainslot', 'vtflooder', 'sfone', 'picsys', 'koceg', 'duptwux',\n",
       "        'simbot', 'obfuscator', 'autinject', 'socks', 'pluto',\n",
       "        'cryptominer', 'plite', 'fuery', 'musecador', 'fareit', 'berbew',\n",
       "        'drolnux', 'lunam', 'floxif', 'zbot', 'netwire', 'grandcrab',\n",
       "        'ursnif', 'msposer', 'autorun', 'soltern', 'mofksys', 'carberp',\n",
       "        'laqma', 'skeeeyah', 'unwaders', 'vflooder', 'yoddos', 'fasong',\n",
       "        'brontok', 'coinminer', 'onlinegames', 'bladabindi', 'pwszbot',\n",
       "        'protux', 'autoitinject', 'palevo', 'ritros', 'agent', 'shampel',\n",
       "        'darkkomet', 'dynamer', 'aenjaris', 'banker', 'quackbot', 'pykspa',\n",
       "        'glupteba', 'histboader', 'salgorea', 'netmail', 'blackfus',\n",
       "        'Unknown', 'reveton', 'yunsip', 'gamarue', 'kirts', 'tiggre',\n",
       "        'cerber', 'klone', 'delf', 'allaple', 'rpcdcom', 'smokeloader',\n",
       "        'delphi', 'installcore', 'virut', 'tescrypt', 'cryptinject',\n",
       "        'eqtonex', 'vmprotbad', 'banload', 'gbot', 'neconyd', 'vbclone',\n",
       "        'revetrat', 'chir', 'systro', 'poison', 'kaicorn', 'fipeg',\n",
       "        'xtrat', 'sessa', 'zegost', 'dustylog', 'hupigon', 'ren',\n",
       "        'androme', 'randrew', 'ipamor', 'vigorf', 'citeary', 'emdup',\n",
       "        'ircbot', 'uacskip', 'facido', 'vbinject', 'nanocore', 'fadok',\n",
       "        'bundpil', 'hpgen', 'gandcrypt', 'bzub', 'cinkel', 'emotet',\n",
       "        'pterodo', 'autoitshellinj', 'bicone', 'botgor', 'win32', 'worm',\n",
       "        'viking', 'emogen', 'fujacks', 'coinstealer', 'black', 'lore',\n",
       "        'vools', 'debris', 'roxer', 'moonlight', 'bitrep', 'agentst',\n",
       "        'bho', 'spiliwan', 'trickster', 'crysan', 'androm',\n",
       "        'explorerhijack', 'redaman', 'korpode', 'atraps', 'bobax', 'bedep',\n",
       "        'kimad', 'creprote', 'kazy', 'dapato', 'omaneat', 'kanav',\n",
       "        'gaobot', 'meterpreter', 'casur', 'rescoms', 'puwaders', 'pariham',\n",
       "        'magania', 'sisbot', 'tinyloader', 'dxmstrt', 'pornoasset',\n",
       "        'shaosmine', 'phishbank', 'phorpiex', 'farfli', 'vilsel', 'tinba',\n",
       "        'bitstealer', 'bankerx', 'miuref', 'xiaobaminer', 'sohana',\n",
       "        'wkysol', 'rifdoor', 'kuluoz', 'virtob', 'vindor', 'aproposmedia',\n",
       "        'downloader', 'sephish', 'alureon', 'trickbot', 'sillyfdc',\n",
       "        'golroted', 'startpage', 'bulta', 'imestartup', 'bancteian',\n",
       "        'agenttesla', 'sixer', 'uphosyfs', 'waski', 'registrydisabler',\n",
       "        'agentdoc', 'fukru', 'bluteal', 'maener', 'flyagent', 'fareitvb',\n",
       "        'ldpinch', 'ppatre', 'discord', 'cardspy', 'tiny', 'ausiv',\n",
       "        'dibizor', 'dyzap', 'gc13003b', 'uwasson', 'quasarrat', 'gi0704e5',\n",
       "        'launcher', 'eggnog', 'lightmoon', 'shipup', 'emelent', 'agen',\n",
       "        'obvod', 'agensla', 'ranos', 'teerac', 'bagsu', 'miniduke',\n",
       "        'asacky', 'capsfin', 'trojan', 'trickybot', 'lydra',\n",
       "        'browserpassview', 'provis', 'autog', 'gravityrat', 'pkeylog',\n",
       "        'nanobot', 'eyestye', 'stealer', 'nymaim', 'starter', 'ulise',\n",
       "        'killfiles', 'gate', 'hpbladabi', 'phoetel', 'madangel',\n",
       "        'gamehack', 'aitinject', 'kryptik', 'redosdru', 'keylogger',\n",
       "        'cenjonsla', 'dridex', 'sivis', 'svhoder', 'daws', 'turkojan',\n",
       "        'coinbitminer', 'cheval', 'icedid', 'dacic', 'xolxo', 'ryuk',\n",
       "        'graftor', 'gendwndrop', 'mewsei', 'cve-2017-0147', 'netstream',\n",
       "        'upantix', 'goznym', 'lamer', 'wannacrypt', 'azorult', 'masson',\n",
       "        'oberal', 'bayrob', 'genasep', 'mansabo', 'krap', 'blamon', 'bq',\n",
       "        'elenoocka', 'dotdo', 'portop', 'flystudio', 'warezov',\n",
       "        'agentwdcr', 'fakeav', 'rebhip', 'banbra', 'emptybuilder', 'miras',\n",
       "        'pidgeon', 'rbot', 'vbkrypt', 'qukart', 'pistolar', 'unknown',\n",
       "        'gigex', 'sysn', 'comisproc', 'imwee', 'neshta', '3636hl13',\n",
       "        'lmir', 'istartsurf', 'scar', 'ming', 'muldrop', 'gc280075',\n",
       "        'shakblades', 'baff', 'cosmu', 'mandaph', 'invader', 'andromeda',\n",
       "        'stormattack', 'blihan', 'vbinder', 'fynloski', 'wacapew',\n",
       "        'userstartup', 'prepscram', 'pakes', 'malagent', 'cabren', 'krol',\n",
       "        'locky', 'vawtrak', 'cryptodef', 'zemot', 'moarider', 'yoof',\n",
       "        'presenoker', 'dalexis', 'nohad', 'verst', 'vundo', 'vbna',\n",
       "        'cleaman', 'nivdort', 'baffec', 'delfinject', 'tockt', 'qakbot',\n",
       "        'clipbanker', 'rimecud', 'darkshell', 'necast', 'asruex',\n",
       "        'limerat', 'senta', 'execution', 'conjar', 'macoute', 'hematite',\n",
       "        'dllcheck', 'matsnu', 'vbot', 'ludbaruma', 'swisyn', 'nofear',\n",
       "        'recodrop', 'dropperx', 'bifrose', 'jacard', 'lokibot', 'blackmon',\n",
       "        'yakes', 'orbus', 'spyeyes', 'tepfer', 'avemaria', 'nabucur',\n",
       "        'prorat', 'jomloon', 'petya', 'agobot', 'pyagst', 'rikihaki',\n",
       "        'agentp', 'dumpy', 'enterak', 'shyape', 'copali', 'swrort',\n",
       "        'dorkbot', 'beebone', 'hancitor', 'killav', 'racealer', 'dwonk',\n",
       "        'dexter', 'sohanad', 'jushed', 'zonidel', 'victy', 'waledac',\n",
       "        'coolvidoor', 'pykse', 'predator', 'fignotok', 'ashify', 'bunitu',\n",
       "        'xorist', 'dorifel', 'xegumumune', 'adload', 'wadhrama', 'cutwail',\n",
       "        'phires', 'electron', 'sagent', 'jigsaw', 'zaccess', 'mintluks',\n",
       "        'netwalker', 'ransomx', 'sockhp', 'firstinj', 'agqr', 'pepm',\n",
       "        'sisproc', 'somhoveran', 'renamer', 'avzx', 'zenpak', 'mokes',\n",
       "        'ulises', 'gyepis', 'bublik', 'pabin', 'alinaos', 'gozi',\n",
       "        'bypassuac', 'sillywnse', 'gamup', 'leivion', 'qbot', 'ymacco',\n",
       "        'ceatrg', 'genasom', 'pasgen', 'njrat', 'ryzerlo', 'toobpug',\n",
       "        'ponystealer', 'loring', 'kwbot', 'cridex', 'danabot',\n",
       "        'torrentlocker', 'ulpm', 'stop', 'revengerat', 'nemptycrypt',\n",
       "        'hpkasidet', 'sirefef', 'generic', 'kapucen', 'almanahe', 'gratem',\n",
       "        'pochi', 'fraudrop', 'midie', 'malautoit', 'spyagent', 'socelars',\n",
       "        'vigua', 'toraldrop', 'agentb', 'ursumdtac', 'formbook',\n",
       "        'malwarex', 'revenge', 'ranumbot', 'ekstak', 'cryptran',\n",
       "        'caynamer', 'gimemo', 'hpcerber', 'aupa', 'kovter', 'bitwall',\n",
       "        'poullight', 'nagoot', 'perseus', 'cosmicduke', 'bandit', 'dcstl',\n",
       "        'hynamer', 'sillysharecopy', 'pcclient', 'cordis', 'dreidel',\n",
       "        'autojhminer', 'nuj', 'foreign', 'bjlog', 'crypterx', 'pcclient2',\n",
       "        'gosys', 'worgtop', 'wmnfrbptjsmib', 'sodinokibi', 'dbot',\n",
       "        'brsecmone', 'lnkwinkap', 'kpot', 'woreflint', 'babonock',\n",
       "        'crysis', 'inject', 'pulcare', 'fleercivet', 'clampi',\n",
       "        'filecrypter', 'malware', 'cobalt', 'trickbotcrypt', 'filecoder',\n",
       "        'filecoderkrypt', 'koobface', 'brsecmon', 'shade', 'wannacry',\n",
       "        'pulobe', 'iyeclore', 'stratnil', 'pkprn', 'wbna', 'finfish',\n",
       "        'bfgt', 'kuhaname'], dtype=object),\n",
       " 582)"
      ]
     },
     "execution_count": 98,
     "metadata": {},
     "output_type": "execute_result"
    }
   ],
   "source": [
    "# Check unique families and their number\n",
    "bodmas_meta.family.unique() , bodmas_meta.family.nunique()"
   ]
  },
  {
   "cell_type": "code",
   "execution_count": 99,
   "metadata": {},
   "outputs": [
    {
     "name": "stdout",
     "output_type": "stream",
     "text": [
      "          family\n",
      "sfone       4729\n",
      "wacatac     4694\n",
      "upatre      3901\n",
      "wabot       3673\n",
      "small       3339\n",
      "ganelp      2232\n",
      "dinwod      2057\n",
      "mira        1960\n",
      "berbew      1749\n",
      "sillyp2p    1616\n"
     ]
    }
   ],
   "source": [
    "# Check number of samples of most common family \n",
    "x = bodmas_meta.family.value_counts().to_frame().head(10)\n",
    "print(x)"
   ]
  },
  {
   "cell_type": "code",
   "execution_count": 100,
   "metadata": {},
   "outputs": [
    {
     "data": {
      "image/png": "[encoded data removed]",
      "text/plain": [
       "<Figure size 1296x432 with 1 Axes>"
      ]
     },
     "metadata": {
      "needs_background": "light"
     },
     "output_type": "display_data"
    }
   ],
   "source": [
    "# Visualize most common family (10)\n",
    "plt.figure(figsize = (18,6))\n",
    "plt.plot(x, color='blue', marker='o', linestyle='dashed',\n",
    "     linewidth=2, markersize=12)\n",
    "plt.savefig('Most_Common_Family.png')\n",
    "plt.show()"
   ]
  },
  {
   "cell_type": "code",
   "execution_count": 101,
   "metadata": {},
   "outputs": [
    {
     "data": {
      "text/html": [
       "<div>\n",
       "<style scoped>\n",
       "    .dataframe tbody tr th:only-of-type {\n",
       "        vertical-align: middle;\n",
       "    }\n",
       "\n",
       "    .dataframe tbody tr th {\n",
       "        vertical-align: top;\n",
       "    }\n",
       "\n",
       "    .dataframe thead th {\n",
       "        text-align: right;\n",
       "    }\n",
       "</style>\n",
       "<table border=\"1\" class=\"dataframe\">\n",
       "  <thead>\n",
       "    <tr style=\"text-align: right;\">\n",
       "      <th></th>\n",
       "      <th>sha</th>\n",
       "      <th>timestamp</th>\n",
       "      <th>family</th>\n",
       "    </tr>\n",
       "  </thead>\n",
       "  <tbody>\n",
       "    <tr>\n",
       "      <th>0</th>\n",
       "      <td>e6d7b4bab32def853ab564410df53fa33172dda1bfd48c...</td>\n",
       "      <td>1167641199000000000</td>\n",
       "      <td>NaN</td>\n",
       "    </tr>\n",
       "    <tr>\n",
       "      <th>1</th>\n",
       "      <td>5af37a058a5bcf2284c183ee98d92b7c66d8f5ce623e92...</td>\n",
       "      <td>1169831790000000000</td>\n",
       "      <td>NaN</td>\n",
       "    </tr>\n",
       "    <tr>\n",
       "      <th>2</th>\n",
       "      <td>5bfbbea150af5cef2d3a93b80ef7c7faea9f564b56045d...</td>\n",
       "      <td>1174442933000000000</td>\n",
       "      <td>NaN</td>\n",
       "    </tr>\n",
       "    <tr>\n",
       "      <th>3</th>\n",
       "      <td>216f592f1e1717d5681b7f5f2b14a28a2f0c603b5b7318...</td>\n",
       "      <td>1177505706000000000</td>\n",
       "      <td>NaN</td>\n",
       "    </tr>\n",
       "    <tr>\n",
       "      <th>4</th>\n",
       "      <td>a1ca76813d2e9e7e23b830c87fbe29bcb51fcbe096e445...</td>\n",
       "      <td>1195052635000000000</td>\n",
       "      <td>NaN</td>\n",
       "    </tr>\n",
       "  </tbody>\n",
       "</table>\n",
       "</div>"
      ],
      "text/plain": [
       "                                                 sha            timestamp  \\\n",
       "0  e6d7b4bab32def853ab564410df53fa33172dda1bfd48c...  1167641199000000000   \n",
       "1  5af37a058a5bcf2284c183ee98d92b7c66d8f5ce623e92...  1169831790000000000   \n",
       "2  5bfbbea150af5cef2d3a93b80ef7c7faea9f564b56045d...  1174442933000000000   \n",
       "3  216f592f1e1717d5681b7f5f2b14a28a2f0c603b5b7318...  1177505706000000000   \n",
       "4  a1ca76813d2e9e7e23b830c87fbe29bcb51fcbe096e445...  1195052635000000000   \n",
       "\n",
       "  family  \n",
       "0    NaN  \n",
       "1    NaN  \n",
       "2    NaN  \n",
       "3    NaN  \n",
       "4    NaN  "
      ]
     },
     "execution_count": 101,
     "metadata": {},
     "output_type": "execute_result"
    }
   ],
   "source": [
    "# Convert timestamp to date\n",
    "bodmas_meta['timestamp'] = pd.to_datetime(bodmas_meta['timestamp'], format = '%Y-%m-%d %H:%M:%S', utc=True).astype(np.int64)\n",
    "bodmas_meta.head()"
   ]
  },
  {
   "cell_type": "code",
   "execution_count": 12,
   "metadata": {},
   "outputs": [
    {
     "name": "stdout",
     "output_type": "stream",
     "text": [
      "<class 'pandas.core.frame.DataFrame'>\n",
      "RangeIndex: 134435 entries, 0 to 134434\n",
      "Data columns (total 3 columns):\n",
      " #   Column     Non-Null Count   Dtype \n",
      "---  ------     --------------   ----- \n",
      " 0   sha        134435 non-null  object\n",
      " 1   timestamp  134435 non-null  int64 \n",
      " 2   family     57293 non-null   object\n",
      "dtypes: int64(1), object(2)\n",
      "memory usage: 3.1+ MB\n"
     ]
    }
   ],
   "source": [
    "bodmas_meta.info()"
   ]
  },
  {
   "cell_type": "code",
   "execution_count": 13,
   "metadata": {},
   "outputs": [
    {
     "data": {
      "text/plain": [
       "sha              0\n",
       "timestamp        0\n",
       "family       77142\n",
       "dtype: int64"
      ]
     },
     "execution_count": 13,
     "metadata": {},
     "output_type": "execute_result"
    }
   ],
   "source": [
    "bodmas_meta.isnull().sum()"
   ]
  },
  {
   "cell_type": "code",
   "execution_count": 14,
   "metadata": {},
   "outputs": [
    {
     "data": {
      "text/html": [
       "<div>\n",
       "<style scoped>\n",
       "    .dataframe tbody tr th:only-of-type {\n",
       "        vertical-align: middle;\n",
       "    }\n",
       "\n",
       "    .dataframe tbody tr th {\n",
       "        vertical-align: top;\n",
       "    }\n",
       "\n",
       "    .dataframe thead th {\n",
       "        text-align: right;\n",
       "    }\n",
       "</style>\n",
       "<table border=\"1\" class=\"dataframe\">\n",
       "  <thead>\n",
       "    <tr style=\"text-align: right;\">\n",
       "      <th></th>\n",
       "      <th>sha</th>\n",
       "      <th>timestamp</th>\n",
       "      <th>family</th>\n",
       "    </tr>\n",
       "  </thead>\n",
       "  <tbody>\n",
       "    <tr>\n",
       "      <th>0</th>\n",
       "      <td>e6d7b4bab32def853ab564410df53fa33172dda1bfd48c...</td>\n",
       "      <td>1167641199000000000</td>\n",
       "      <td>benign</td>\n",
       "    </tr>\n",
       "    <tr>\n",
       "      <th>1</th>\n",
       "      <td>5af37a058a5bcf2284c183ee98d92b7c66d8f5ce623e92...</td>\n",
       "      <td>1169831790000000000</td>\n",
       "      <td>benign</td>\n",
       "    </tr>\n",
       "    <tr>\n",
       "      <th>2</th>\n",
       "      <td>5bfbbea150af5cef2d3a93b80ef7c7faea9f564b56045d...</td>\n",
       "      <td>1174442933000000000</td>\n",
       "      <td>benign</td>\n",
       "    </tr>\n",
       "    <tr>\n",
       "      <th>3</th>\n",
       "      <td>216f592f1e1717d5681b7f5f2b14a28a2f0c603b5b7318...</td>\n",
       "      <td>1177505706000000000</td>\n",
       "      <td>benign</td>\n",
       "    </tr>\n",
       "    <tr>\n",
       "      <th>4</th>\n",
       "      <td>a1ca76813d2e9e7e23b830c87fbe29bcb51fcbe096e445...</td>\n",
       "      <td>1195052635000000000</td>\n",
       "      <td>benign</td>\n",
       "    </tr>\n",
       "  </tbody>\n",
       "</table>\n",
       "</div>"
      ],
      "text/plain": [
       "                                                 sha            timestamp  \\\n",
       "0  e6d7b4bab32def853ab564410df53fa33172dda1bfd48c...  1167641199000000000   \n",
       "1  5af37a058a5bcf2284c183ee98d92b7c66d8f5ce623e92...  1169831790000000000   \n",
       "2  5bfbbea150af5cef2d3a93b80ef7c7faea9f564b56045d...  1174442933000000000   \n",
       "3  216f592f1e1717d5681b7f5f2b14a28a2f0c603b5b7318...  1177505706000000000   \n",
       "4  a1ca76813d2e9e7e23b830c87fbe29bcb51fcbe096e445...  1195052635000000000   \n",
       "\n",
       "   family  \n",
       "0  benign  \n",
       "1  benign  \n",
       "2  benign  \n",
       "3  benign  \n",
       "4  benign  "
      ]
     },
     "execution_count": 14,
     "metadata": {},
     "output_type": "execute_result"
    }
   ],
   "source": [
    "# Replace NAN to benign to clarify as benign\n",
    "bodmas_meta.fillna('benign', inplace= True)\n",
    "bodmas_meta.head()"
   ]
  },
  {
   "cell_type": "code",
   "execution_count": 15,
   "metadata": {},
   "outputs": [
    {
     "name": "stdout",
     "output_type": "stream",
     "text": [
      "                                                      sha  \\\n",
      "134374  d1225074aeb0fd8e565af4981c8c55784452c5fbcd2cbe...   \n",
      "134375  db2ac399e68bec4a9cc6cb2b7b4b7cc3217770c25a1109...   \n",
      "134376  2d2873cf2d4ffa26a784ee0ddb9516f31212f8f0f78495...   \n",
      "134377  ed433bc20720ad788f4f253f9071eaaae3199c0136788c...   \n",
      "134378  3ce93329dd561ddcd122bcfc4369c19ffbd1433ce4927e...   \n",
      "...                                                   ...   \n",
      "134430  1515deebbf3c55e46c1a4168db8cc0c149810e855a5497...   \n",
      "134431  502e1af8f263d74b568f6e08dfb4eb2d4228cdef22109a...   \n",
      "134432  6265ccd5222ed1159000ddcd2b70376a2ed5e3e56795dd...   \n",
      "134433  2d4d2b77020d17418b6de26e5d728ad3a3cc6a6a44ccab...   \n",
      "134434  8ad8b39bcb7fb6b1edb6734c90173dff70850046bae5d3...   \n",
      "\n",
      "                  timestamp     family  \n",
      "134374  1601424000000000000     benign  \n",
      "134375  1601433977000000000    wacatac  \n",
      "134376  1601433980000000000    wacatac  \n",
      "134377  1601433995000000000    wacatac  \n",
      "134378  1601434012000000000  elenoocka  \n",
      "...                     ...        ...  \n",
      "134430  1601435122000000000     autoit  \n",
      "134431  1601435123000000000     autoit  \n",
      "134432  1601435124000000000     autoit  \n",
      "134433  1601435126000000000     autoit  \n",
      "134434  1601435127000000000     autoit  \n",
      "\n",
      "[61 rows x 3 columns]\n",
      "[0 1 1 1 1 1 1 1 1 1 1 1 1 1 1 1 1 1 1 1 1 1 1 1 1 1 1 1 1 1 1 1 1 1 1 1 1\n",
      " 1 1 1 1 1 1 1 1 1 1 1 1 1 1 1 1 1 1 1 1 1 1 1 1]\n"
     ]
    }
   ],
   "source": [
    "# Check (1) in Y here == malware in metadata\n",
    "print(bodmas_meta[-61:])\n",
    "print(y[-61:])"
   ]
  },
  {
   "cell_type": "markdown",
   "metadata": {
    "tags": []
   },
   "source": [
    "**Okay matched**"
   ]
  },
  {
   "cell_type": "markdown",
   "metadata": {
    "tags": []
   },
   "source": [
    "### Merge \n",
    "Merge tiemstamp with appropriate category by sha column."
   ]
  },
  {
   "cell_type": "code",
   "execution_count": 16,
   "metadata": {},
   "outputs": [],
   "source": [
    "# Read category data\n",
    "bodmas_cate = pd.read_csv('bodmas_malware_category.csv')"
   ]
  },
  {
   "cell_type": "code",
   "execution_count": 17,
   "metadata": {},
   "outputs": [
    {
     "data": {
      "text/html": [
       "<div>\n",
       "<style scoped>\n",
       "    .dataframe tbody tr th:only-of-type {\n",
       "        vertical-align: middle;\n",
       "    }\n",
       "\n",
       "    .dataframe tbody tr th {\n",
       "        vertical-align: top;\n",
       "    }\n",
       "\n",
       "    .dataframe thead th {\n",
       "        text-align: right;\n",
       "    }\n",
       "</style>\n",
       "<table border=\"1\" class=\"dataframe\">\n",
       "  <thead>\n",
       "    <tr style=\"text-align: right;\">\n",
       "      <th></th>\n",
       "      <th>sha256</th>\n",
       "      <th>category</th>\n",
       "    </tr>\n",
       "  </thead>\n",
       "  <tbody>\n",
       "    <tr>\n",
       "      <th>0</th>\n",
       "      <td>6a695877f571d043fe08d3cc715d9d4b4af85ffe837fa0...</td>\n",
       "      <td>worm</td>\n",
       "    </tr>\n",
       "    <tr>\n",
       "      <th>1</th>\n",
       "      <td>9ef9439795cac85e711b59df296a19e7ac43c144035f2f...</td>\n",
       "      <td>trojan</td>\n",
       "    </tr>\n",
       "    <tr>\n",
       "      <th>2</th>\n",
       "      <td>32de655f9010d8d152db16c6e5bbad215fa09286a08ff1...</td>\n",
       "      <td>worm</td>\n",
       "    </tr>\n",
       "    <tr>\n",
       "      <th>3</th>\n",
       "      <td>a68f7fb26ad84859625002395cf67f22ea0956996ed9c8...</td>\n",
       "      <td>downloader</td>\n",
       "    </tr>\n",
       "    <tr>\n",
       "      <th>4</th>\n",
       "      <td>d5c74472adfda20166a65f8b2886819a014ebcb67b999e...</td>\n",
       "      <td>trojan</td>\n",
       "    </tr>\n",
       "  </tbody>\n",
       "</table>\n",
       "</div>"
      ],
      "text/plain": [
       "                                              sha256    category\n",
       "0  6a695877f571d043fe08d3cc715d9d4b4af85ffe837fa0...        worm\n",
       "1  9ef9439795cac85e711b59df296a19e7ac43c144035f2f...      trojan\n",
       "2  32de655f9010d8d152db16c6e5bbad215fa09286a08ff1...        worm\n",
       "3  a68f7fb26ad84859625002395cf67f22ea0956996ed9c8...  downloader\n",
       "4  d5c74472adfda20166a65f8b2886819a014ebcb67b999e...      trojan"
      ]
     },
     "execution_count": 17,
     "metadata": {},
     "output_type": "execute_result"
    }
   ],
   "source": [
    "bodmas_cate.head()"
   ]
  },
  {
   "cell_type": "code",
   "execution_count": 18,
   "metadata": {},
   "outputs": [
    {
     "name": "stdout",
     "output_type": "stream",
     "text": [
      "<class 'pandas.core.frame.DataFrame'>\n",
      "RangeIndex: 57293 entries, 0 to 57292\n",
      "Data columns (total 2 columns):\n",
      " #   Column    Non-Null Count  Dtype \n",
      "---  ------    --------------  ----- \n",
      " 0   sha256    57293 non-null  object\n",
      " 1   category  57293 non-null  object\n",
      "dtypes: object(2)\n",
      "memory usage: 895.3+ KB\n"
     ]
    }
   ],
   "source": [
    "bodmas_cate.info()"
   ]
  },
  {
   "cell_type": "markdown",
   "metadata": {
    "tags": []
   },
   "source": [
    "We can see we have 57293 samples knows category and other should be the benign samples"
   ]
  },
  {
   "cell_type": "code",
   "execution_count": 102,
   "metadata": {},
   "outputs": [],
   "source": [
    "# # rename sha256 to sha to match with metadata\n",
    "bodmas_cate.rename(columns= {'sha256' : 'sha'}, inplace= True)"
   ]
  },
  {
   "cell_type": "code",
   "execution_count": 103,
   "metadata": {},
   "outputs": [
    {
     "data": {
      "text/html": [
       "<div>\n",
       "<style scoped>\n",
       "    .dataframe tbody tr th:only-of-type {\n",
       "        vertical-align: middle;\n",
       "    }\n",
       "\n",
       "    .dataframe tbody tr th {\n",
       "        vertical-align: top;\n",
       "    }\n",
       "\n",
       "    .dataframe thead th {\n",
       "        text-align: right;\n",
       "    }\n",
       "</style>\n",
       "<table border=\"1\" class=\"dataframe\">\n",
       "  <thead>\n",
       "    <tr style=\"text-align: right;\">\n",
       "      <th></th>\n",
       "      <th>sha</th>\n",
       "      <th>category</th>\n",
       "    </tr>\n",
       "  </thead>\n",
       "  <tbody>\n",
       "    <tr>\n",
       "      <th>0</th>\n",
       "      <td>6a695877f571d043fe08d3cc715d9d4b4af85ffe837fa0...</td>\n",
       "      <td>worm</td>\n",
       "    </tr>\n",
       "    <tr>\n",
       "      <th>1</th>\n",
       "      <td>9ef9439795cac85e711b59df296a19e7ac43c144035f2f...</td>\n",
       "      <td>trojan</td>\n",
       "    </tr>\n",
       "    <tr>\n",
       "      <th>2</th>\n",
       "      <td>32de655f9010d8d152db16c6e5bbad215fa09286a08ff1...</td>\n",
       "      <td>worm</td>\n",
       "    </tr>\n",
       "    <tr>\n",
       "      <th>3</th>\n",
       "      <td>a68f7fb26ad84859625002395cf67f22ea0956996ed9c8...</td>\n",
       "      <td>downloader</td>\n",
       "    </tr>\n",
       "    <tr>\n",
       "      <th>4</th>\n",
       "      <td>d5c74472adfda20166a65f8b2886819a014ebcb67b999e...</td>\n",
       "      <td>trojan</td>\n",
       "    </tr>\n",
       "  </tbody>\n",
       "</table>\n",
       "</div>"
      ],
      "text/plain": [
       "                                                 sha    category\n",
       "0  6a695877f571d043fe08d3cc715d9d4b4af85ffe837fa0...        worm\n",
       "1  9ef9439795cac85e711b59df296a19e7ac43c144035f2f...      trojan\n",
       "2  32de655f9010d8d152db16c6e5bbad215fa09286a08ff1...        worm\n",
       "3  a68f7fb26ad84859625002395cf67f22ea0956996ed9c8...  downloader\n",
       "4  d5c74472adfda20166a65f8b2886819a014ebcb67b999e...      trojan"
      ]
     },
     "execution_count": 103,
     "metadata": {},
     "output_type": "execute_result"
    }
   ],
   "source": [
    "bodmas_cate.head()"
   ]
  },
  {
   "cell_type": "code",
   "execution_count": 104,
   "metadata": {},
   "outputs": [
    {
     "data": {
      "text/plain": [
       "array(['worm', 'trojan', 'downloader', 'dropper', 'backdoor',\n",
       "       'ransomware', 'informationstealer', 'rootkit', 'p2p-worm',\n",
       "       'cryptominer', 'trojan-gamethief', 'pua', 'virus', 'exploit'],\n",
       "      dtype=object)"
      ]
     },
     "execution_count": 104,
     "metadata": {},
     "output_type": "execute_result"
    }
   ],
   "source": [
    "bodmas_cate.category.unique()"
   ]
  },
  {
   "cell_type": "code",
   "execution_count": 105,
   "metadata": {},
   "outputs": [
    {
     "data": {
      "text/html": [
       "<div>\n",
       "<style scoped>\n",
       "    .dataframe tbody tr th:only-of-type {\n",
       "        vertical-align: middle;\n",
       "    }\n",
       "\n",
       "    .dataframe tbody tr th {\n",
       "        vertical-align: top;\n",
       "    }\n",
       "\n",
       "    .dataframe thead th {\n",
       "        text-align: right;\n",
       "    }\n",
       "</style>\n",
       "<table border=\"1\" class=\"dataframe\">\n",
       "  <thead>\n",
       "    <tr style=\"text-align: right;\">\n",
       "      <th></th>\n",
       "      <th>sha</th>\n",
       "      <th>timestamp</th>\n",
       "      <th>family</th>\n",
       "      <th>category</th>\n",
       "    </tr>\n",
       "  </thead>\n",
       "  <tbody>\n",
       "    <tr>\n",
       "      <th>0</th>\n",
       "      <td>e6d7b4bab32def853ab564410df53fa33172dda1bfd48c...</td>\n",
       "      <td>1167641199000000000</td>\n",
       "      <td>NaN</td>\n",
       "      <td>NaN</td>\n",
       "    </tr>\n",
       "    <tr>\n",
       "      <th>1</th>\n",
       "      <td>5af37a058a5bcf2284c183ee98d92b7c66d8f5ce623e92...</td>\n",
       "      <td>1169831790000000000</td>\n",
       "      <td>NaN</td>\n",
       "      <td>NaN</td>\n",
       "    </tr>\n",
       "    <tr>\n",
       "      <th>2</th>\n",
       "      <td>5bfbbea150af5cef2d3a93b80ef7c7faea9f564b56045d...</td>\n",
       "      <td>1174442933000000000</td>\n",
       "      <td>NaN</td>\n",
       "      <td>NaN</td>\n",
       "    </tr>\n",
       "    <tr>\n",
       "      <th>3</th>\n",
       "      <td>216f592f1e1717d5681b7f5f2b14a28a2f0c603b5b7318...</td>\n",
       "      <td>1177505706000000000</td>\n",
       "      <td>NaN</td>\n",
       "      <td>NaN</td>\n",
       "    </tr>\n",
       "    <tr>\n",
       "      <th>4</th>\n",
       "      <td>a1ca76813d2e9e7e23b830c87fbe29bcb51fcbe096e445...</td>\n",
       "      <td>1195052635000000000</td>\n",
       "      <td>NaN</td>\n",
       "      <td>NaN</td>\n",
       "    </tr>\n",
       "  </tbody>\n",
       "</table>\n",
       "</div>"
      ],
      "text/plain": [
       "                                                 sha            timestamp  \\\n",
       "0  e6d7b4bab32def853ab564410df53fa33172dda1bfd48c...  1167641199000000000   \n",
       "1  5af37a058a5bcf2284c183ee98d92b7c66d8f5ce623e92...  1169831790000000000   \n",
       "2  5bfbbea150af5cef2d3a93b80ef7c7faea9f564b56045d...  1174442933000000000   \n",
       "3  216f592f1e1717d5681b7f5f2b14a28a2f0c603b5b7318...  1177505706000000000   \n",
       "4  a1ca76813d2e9e7e23b830c87fbe29bcb51fcbe096e445...  1195052635000000000   \n",
       "\n",
       "  family category  \n",
       "0    NaN      NaN  \n",
       "1    NaN      NaN  \n",
       "2    NaN      NaN  \n",
       "3    NaN      NaN  \n",
       "4    NaN      NaN  "
      ]
     },
     "execution_count": 105,
     "metadata": {},
     "output_type": "execute_result"
    }
   ],
   "source": [
    "# Combine timestamp from meta with category from bodmas_cate based on sha column\n",
    "date_cate = pd.merge(bodmas_meta, bodmas_cate, on= 'sha', how= 'left')\n",
    "date_cate.head()"
   ]
  },
  {
   "cell_type": "code",
   "execution_count": 106,
   "metadata": {},
   "outputs": [
    {
     "name": "stdout",
     "output_type": "stream",
     "text": [
      "<class 'pandas.core.frame.DataFrame'>\n",
      "Int64Index: 134435 entries, 0 to 134434\n",
      "Data columns (total 4 columns):\n",
      " #   Column     Non-Null Count   Dtype \n",
      "---  ------     --------------   ----- \n",
      " 0   sha        134435 non-null  object\n",
      " 1   timestamp  134435 non-null  int64 \n",
      " 2   family     57293 non-null   object\n",
      " 3   category   57293 non-null   object\n",
      "dtypes: int64(1), object(3)\n",
      "memory usage: 5.1+ MB\n"
     ]
    }
   ],
   "source": [
    "date_cate.info()"
   ]
  },
  {
   "cell_type": "code",
   "execution_count": 107,
   "metadata": {},
   "outputs": [
    {
     "data": {
      "text/html": [
       "<div>\n",
       "<style scoped>\n",
       "    .dataframe tbody tr th:only-of-type {\n",
       "        vertical-align: middle;\n",
       "    }\n",
       "\n",
       "    .dataframe tbody tr th {\n",
       "        vertical-align: top;\n",
       "    }\n",
       "\n",
       "    .dataframe thead th {\n",
       "        text-align: right;\n",
       "    }\n",
       "</style>\n",
       "<table border=\"1\" class=\"dataframe\">\n",
       "  <thead>\n",
       "    <tr style=\"text-align: right;\">\n",
       "      <th></th>\n",
       "      <th>sha</th>\n",
       "      <th>timestamp</th>\n",
       "      <th>family</th>\n",
       "      <th>category</th>\n",
       "    </tr>\n",
       "  </thead>\n",
       "  <tbody>\n",
       "    <tr>\n",
       "      <th>0</th>\n",
       "      <td>e6d7b4bab32def853ab564410df53fa33172dda1bfd48c...</td>\n",
       "      <td>1167641199000000000</td>\n",
       "      <td>benign</td>\n",
       "      <td>benign</td>\n",
       "    </tr>\n",
       "    <tr>\n",
       "      <th>1</th>\n",
       "      <td>5af37a058a5bcf2284c183ee98d92b7c66d8f5ce623e92...</td>\n",
       "      <td>1169831790000000000</td>\n",
       "      <td>benign</td>\n",
       "      <td>benign</td>\n",
       "    </tr>\n",
       "    <tr>\n",
       "      <th>2</th>\n",
       "      <td>5bfbbea150af5cef2d3a93b80ef7c7faea9f564b56045d...</td>\n",
       "      <td>1174442933000000000</td>\n",
       "      <td>benign</td>\n",
       "      <td>benign</td>\n",
       "    </tr>\n",
       "    <tr>\n",
       "      <th>3</th>\n",
       "      <td>216f592f1e1717d5681b7f5f2b14a28a2f0c603b5b7318...</td>\n",
       "      <td>1177505706000000000</td>\n",
       "      <td>benign</td>\n",
       "      <td>benign</td>\n",
       "    </tr>\n",
       "    <tr>\n",
       "      <th>4</th>\n",
       "      <td>a1ca76813d2e9e7e23b830c87fbe29bcb51fcbe096e445...</td>\n",
       "      <td>1195052635000000000</td>\n",
       "      <td>benign</td>\n",
       "      <td>benign</td>\n",
       "    </tr>\n",
       "  </tbody>\n",
       "</table>\n",
       "</div>"
      ],
      "text/plain": [
       "                                                 sha            timestamp  \\\n",
       "0  e6d7b4bab32def853ab564410df53fa33172dda1bfd48c...  1167641199000000000   \n",
       "1  5af37a058a5bcf2284c183ee98d92b7c66d8f5ce623e92...  1169831790000000000   \n",
       "2  5bfbbea150af5cef2d3a93b80ef7c7faea9f564b56045d...  1174442933000000000   \n",
       "3  216f592f1e1717d5681b7f5f2b14a28a2f0c603b5b7318...  1177505706000000000   \n",
       "4  a1ca76813d2e9e7e23b830c87fbe29bcb51fcbe096e445...  1195052635000000000   \n",
       "\n",
       "   family category  \n",
       "0  benign   benign  \n",
       "1  benign   benign  \n",
       "2  benign   benign  \n",
       "3  benign   benign  \n",
       "4  benign   benign  "
      ]
     },
     "execution_count": 107,
     "metadata": {},
     "output_type": "execute_result"
    }
   ],
   "source": [
    "# Replace NAN to benign \n",
    "date_cate.fillna('benign', inplace= True)\n",
    "date_cate.head()"
   ]
  },
  {
   "cell_type": "markdown",
   "metadata": {
    "tags": []
   },
   "source": [
    "### Label Encoding"
   ]
  },
  {
   "cell_type": "code",
   "execution_count": 108,
   "metadata": {},
   "outputs": [
    {
     "data": {
      "text/html": [
       "<div>\n",
       "<style scoped>\n",
       "    .dataframe tbody tr th:only-of-type {\n",
       "        vertical-align: middle;\n",
       "    }\n",
       "\n",
       "    .dataframe tbody tr th {\n",
       "        vertical-align: top;\n",
       "    }\n",
       "\n",
       "    .dataframe thead th {\n",
       "        text-align: right;\n",
       "    }\n",
       "</style>\n",
       "<table border=\"1\" class=\"dataframe\">\n",
       "  <thead>\n",
       "    <tr style=\"text-align: right;\">\n",
       "      <th></th>\n",
       "      <th>sha</th>\n",
       "      <th>timestamp</th>\n",
       "      <th>family</th>\n",
       "      <th>category</th>\n",
       "    </tr>\n",
       "  </thead>\n",
       "  <tbody>\n",
       "    <tr>\n",
       "      <th>0</th>\n",
       "      <td>e6d7b4bab32def853ab564410df53fa33172dda1bfd48c...</td>\n",
       "      <td>1167641199000000000</td>\n",
       "      <td>54</td>\n",
       "      <td>1</td>\n",
       "    </tr>\n",
       "    <tr>\n",
       "      <th>1</th>\n",
       "      <td>5af37a058a5bcf2284c183ee98d92b7c66d8f5ce623e92...</td>\n",
       "      <td>1169831790000000000</td>\n",
       "      <td>54</td>\n",
       "      <td>1</td>\n",
       "    </tr>\n",
       "    <tr>\n",
       "      <th>2</th>\n",
       "      <td>5bfbbea150af5cef2d3a93b80ef7c7faea9f564b56045d...</td>\n",
       "      <td>1174442933000000000</td>\n",
       "      <td>54</td>\n",
       "      <td>1</td>\n",
       "    </tr>\n",
       "    <tr>\n",
       "      <th>3</th>\n",
       "      <td>216f592f1e1717d5681b7f5f2b14a28a2f0c603b5b7318...</td>\n",
       "      <td>1177505706000000000</td>\n",
       "      <td>54</td>\n",
       "      <td>1</td>\n",
       "    </tr>\n",
       "    <tr>\n",
       "      <th>4</th>\n",
       "      <td>a1ca76813d2e9e7e23b830c87fbe29bcb51fcbe096e445...</td>\n",
       "      <td>1195052635000000000</td>\n",
       "      <td>54</td>\n",
       "      <td>1</td>\n",
       "    </tr>\n",
       "  </tbody>\n",
       "</table>\n",
       "</div>"
      ],
      "text/plain": [
       "                                                 sha            timestamp  \\\n",
       "0  e6d7b4bab32def853ab564410df53fa33172dda1bfd48c...  1167641199000000000   \n",
       "1  5af37a058a5bcf2284c183ee98d92b7c66d8f5ce623e92...  1169831790000000000   \n",
       "2  5bfbbea150af5cef2d3a93b80ef7c7faea9f564b56045d...  1174442933000000000   \n",
       "3  216f592f1e1717d5681b7f5f2b14a28a2f0c603b5b7318...  1177505706000000000   \n",
       "4  a1ca76813d2e9e7e23b830c87fbe29bcb51fcbe096e445...  1195052635000000000   \n",
       "\n",
       "   family  category  \n",
       "0      54         1  \n",
       "1      54         1  \n",
       "2      54         1  \n",
       "3      54         1  \n",
       "4      54         1  "
      ]
     },
     "execution_count": 108,
     "metadata": {},
     "output_type": "execute_result"
    }
   ],
   "source": [
    "# Transform Family into numeric/labels format\n",
    "le = LabelEncoder()\n",
    "date_cate['family'] = le.fit_transform(date_cate['family'])\n",
    "date_cate['category'] = le.fit_transform(date_cate['category'])\n",
    "date_cate.head()"
   ]
  },
  {
   "cell_type": "code",
   "execution_count": 109,
   "metadata": {},
   "outputs": [
    {
     "data": {
      "text/plain": [
       "(array([ 1, 11, 14,  0,  3,  6,  4,  9, 10,  2,  8,  5, 13,  7, 12]),\n",
       " '--------',\n",
       " array([ 54,  33, 438, 234, 260, 241, 201, 347, 464, 552, 320, 520, 138,\n",
       "         94, 380, 517,  87, 271, 324, 344, 528, 465, 457, 453, 145, 360,\n",
       "        143, 181, 147, 331, 522, 407,  55, 209, 221, 186, 555, 150, 406,\n",
       "        250, 405, 295, 550, 211, 307, 546, 490,  71, 449, 492, 124, 484,\n",
       "        355, 510, 501, 483,  15, 548, 444, 374, 273, 158, 456, 353,  31,\n",
       "        469, 381, 120, 379, 202, 330, 182,  56, 155, 299, 195, 578, 343,\n",
       "        231, 523, 328,  37, 473, 325,  89, 285, 463, 518, 536, 574, 185,\n",
       "         76, 106, 357,  68, 399, 393,  34, 362, 432,   6, 447, 131, 162,\n",
       "          3,  48, 408, 402, 225, 238, 439, 340,  66,   1, 427, 576, 206,\n",
       "        270, 496,  96, 272, 137,  18, 434, 466, 140, 251, 544, 495, 118,\n",
       "        174, 545,  50, 214, 337, 529, 428,  98, 491, 383, 262, 192, 571,\n",
       "        443, 579, 159, 244, 422,  22, 412, 253, 538, 100, 168, 254, 512,\n",
       "        178, 531, 335, 179,  82, 242, 210,  85,  99, 171, 395,  35,  59,\n",
       "         74, 561, 566, 540, 170, 203, 107,  65, 296, 547, 136, 433, 327,\n",
       "         61,  10,  58, 475, 507, 122,  21, 176, 419, 275,  28,  73,  52,\n",
       "        269, 115, 265, 130, 356, 263, 212, 314,  91, 424, 398, 363, 304,\n",
       "        459, 499, 161, 385, 448, 371, 373, 184, 541, 497,  62,  49, 322,\n",
       "        568, 471, 562, 429, 282, 543, 542,  24, 152, 442,  20, 505, 452,\n",
       "        226, 479,  81, 247,  46,  11, 462, 521, 559, 421,   8, 204,  72,\n",
       "        303, 196, 183, 287, 388, 144,  90, 498,  30, 142, 163, 215, 526,\n",
       "        409, 222, 286, 164, 289, 450, 169,   4, 354,   5, 413, 493,  44,\n",
       "        318,  25,  88, 509, 508, 300,  77, 394,  32, 233, 377, 334, 177,\n",
       "        480, 351, 478, 513, 268, 213, 239, 372, 302, 207,  16, 280, 420,\n",
       "        266,  95, 154, 461, 486, 133, 511, 105,  97, 246, 127, 569, 435,\n",
       "        230, 219, 315, 126, 341, 519, 229, 284, 557,  40, 312, 352,  51,\n",
       "        217, 311, 278,  69,  75, 167, 151, 386, 197, 558,  12, 180, 417,\n",
       "         45, 172, 321, 375, 416, 532, 410, 376, 516, 223, 489, 108, 248,\n",
       "        339,   0, 291, 255, 440, 317, 329, 216, 446,  42, 114, 310, 252,\n",
       "         23, 482,  70, 530, 205, 551, 525, 390, 361, 305,  86, 279, 293,\n",
       "        527, 119, 580, 323, 575, 391, 128, 349, 535, 549, 533, 102, 345,\n",
       "         43, 139, 500, 403, 103, 431, 132, 336,  27, 290, 441, 175, 109,\n",
       "        301, 237, 146, 313, 534, 298, 487, 348, 418, 156,  60, 257, 294,\n",
       "         67, 572, 358, 477, 494,  38, 332, 392, 259, 369,  13, 400, 430,\n",
       "          9, 157, 173, 451, 111, 488, 149,  53, 236, 267, 411, 160, 141,\n",
       "        472, 261, 582, 537, 554, 110, 401, 389, 187,  26,  83, 570, 148,\n",
       "        567,   2, 553, 125, 370, 166, 437, 258, 577, 319, 342, 414, 468,\n",
       "        193,  14, 367, 460, 474, 423,  39, 581, 326, 514, 235,  80, 359,\n",
       "         17, 228,  84, 455, 208, 288, 404, 573,  93, 218, 364, 346, 436,\n",
       "        502, 384, 297, 283, 116, 129, 504, 515, 481, 426, 338, 243, 458,\n",
       "        220, 264,  19, 232, 382, 200, 316, 306, 476, 467, 539, 503,   7,\n",
       "        524, 199, 309, 425, 415, 165, 121,  92, 224, 240,  29, 276,  63,\n",
       "        387, 333, 368, 113,  47, 135, 245, 454, 365, 112, 153,  36, 350,\n",
       "        198,  64, 117, 366, 227, 565, 563, 470, 134,  79, 292, 277, 564,\n",
       "         41, 123, 249, 396, 194, 101, 190, 308, 104, 506, 188, 189, 274,\n",
       "         78, 445, 556, 397, 256, 485, 378, 560, 191,  57, 281]))"
      ]
     },
     "execution_count": 109,
     "metadata": {},
     "output_type": "execute_result"
    }
   ],
   "source": [
    "date_cate.category.unique(), '--------', date_cate.family.unique()"
   ]
  },
  {
   "cell_type": "code",
   "execution_count": 110,
   "metadata": {},
   "outputs": [],
   "source": [
    "# drop sha column\n",
    "date_cate.drop('sha', axis= 1, inplace= True)"
   ]
  },
  {
   "cell_type": "code",
   "execution_count": 111,
   "metadata": {},
   "outputs": [],
   "source": [
    "date_cate= pd.DataFrame(date_cate)"
   ]
  },
  {
   "cell_type": "code",
   "execution_count": 112,
   "metadata": {},
   "outputs": [],
   "source": [
    "# Convert ndarray to dataframe\n",
    "X = pd.DataFrame(X)\n",
    "X.head()\n",
    "\n",
    "y= pd.DataFrame(y)"
   ]
  },
  {
   "cell_type": "markdown",
   "metadata": {
    "tags": []
   },
   "source": [
    "### Concate\n",
    "Combine y and timestamp and family with X"
   ]
  },
  {
   "cell_type": "code",
   "execution_count": 113,
   "metadata": {},
   "outputs": [
    {
     "data": {
      "text/html": [
       "<div>\n",
       "<style scoped>\n",
       "    .dataframe tbody tr th:only-of-type {\n",
       "        vertical-align: middle;\n",
       "    }\n",
       "\n",
       "    .dataframe tbody tr th {\n",
       "        vertical-align: top;\n",
       "    }\n",
       "\n",
       "    .dataframe thead th {\n",
       "        text-align: right;\n",
       "    }\n",
       "</style>\n",
       "<table border=\"1\" class=\"dataframe\">\n",
       "  <thead>\n",
       "    <tr style=\"text-align: right;\">\n",
       "      <th></th>\n",
       "      <th>0</th>\n",
       "      <th>1</th>\n",
       "      <th>2</th>\n",
       "      <th>3</th>\n",
       "      <th>4</th>\n",
       "      <th>5</th>\n",
       "      <th>6</th>\n",
       "      <th>7</th>\n",
       "      <th>8</th>\n",
       "      <th>9</th>\n",
       "      <th>...</th>\n",
       "      <th>2374</th>\n",
       "      <th>2375</th>\n",
       "      <th>2376</th>\n",
       "      <th>2377</th>\n",
       "      <th>2378</th>\n",
       "      <th>2379</th>\n",
       "      <th>2380</th>\n",
       "      <th>2381</th>\n",
       "      <th>2382</th>\n",
       "      <th>2383</th>\n",
       "    </tr>\n",
       "  </thead>\n",
       "  <tbody>\n",
       "    <tr>\n",
       "      <th>134430</th>\n",
       "      <td>0.065420</td>\n",
       "      <td>0.005993</td>\n",
       "      <td>0.005216</td>\n",
       "      <td>0.005492</td>\n",
       "      <td>0.005747</td>\n",
       "      <td>0.004183</td>\n",
       "      <td>0.005373</td>\n",
       "      <td>0.004388</td>\n",
       "      <td>0.005619</td>\n",
       "      <td>0.004121</td>\n",
       "      <td>...</td>\n",
       "      <td>0.0</td>\n",
       "      <td>0.0</td>\n",
       "      <td>0.0</td>\n",
       "      <td>0.0</td>\n",
       "      <td>0.0</td>\n",
       "      <td>0.0</td>\n",
       "      <td>0.0</td>\n",
       "      <td>1601435122000000000</td>\n",
       "      <td>33</td>\n",
       "      <td>1</td>\n",
       "    </tr>\n",
       "    <tr>\n",
       "      <th>134431</th>\n",
       "      <td>0.065421</td>\n",
       "      <td>0.005993</td>\n",
       "      <td>0.005216</td>\n",
       "      <td>0.005492</td>\n",
       "      <td>0.005747</td>\n",
       "      <td>0.004183</td>\n",
       "      <td>0.005373</td>\n",
       "      <td>0.004388</td>\n",
       "      <td>0.005617</td>\n",
       "      <td>0.004121</td>\n",
       "      <td>...</td>\n",
       "      <td>0.0</td>\n",
       "      <td>0.0</td>\n",
       "      <td>0.0</td>\n",
       "      <td>0.0</td>\n",
       "      <td>0.0</td>\n",
       "      <td>0.0</td>\n",
       "      <td>0.0</td>\n",
       "      <td>1601435123000000000</td>\n",
       "      <td>33</td>\n",
       "      <td>1</td>\n",
       "    </tr>\n",
       "    <tr>\n",
       "      <th>134432</th>\n",
       "      <td>0.142307</td>\n",
       "      <td>0.016379</td>\n",
       "      <td>0.010974</td>\n",
       "      <td>0.005991</td>\n",
       "      <td>0.009369</td>\n",
       "      <td>0.005670</td>\n",
       "      <td>0.003335</td>\n",
       "      <td>0.003099</td>\n",
       "      <td>0.009761</td>\n",
       "      <td>0.002385</td>\n",
       "      <td>...</td>\n",
       "      <td>0.0</td>\n",
       "      <td>2180.0</td>\n",
       "      <td>585728.0</td>\n",
       "      <td>0.0</td>\n",
       "      <td>0.0</td>\n",
       "      <td>0.0</td>\n",
       "      <td>0.0</td>\n",
       "      <td>1601435124000000000</td>\n",
       "      <td>33</td>\n",
       "      <td>1</td>\n",
       "    </tr>\n",
       "    <tr>\n",
       "      <th>134433</th>\n",
       "      <td>0.142308</td>\n",
       "      <td>0.016379</td>\n",
       "      <td>0.010974</td>\n",
       "      <td>0.005991</td>\n",
       "      <td>0.009369</td>\n",
       "      <td>0.005670</td>\n",
       "      <td>0.003335</td>\n",
       "      <td>0.003099</td>\n",
       "      <td>0.009761</td>\n",
       "      <td>0.002386</td>\n",
       "      <td>...</td>\n",
       "      <td>0.0</td>\n",
       "      <td>2180.0</td>\n",
       "      <td>585728.0</td>\n",
       "      <td>0.0</td>\n",
       "      <td>0.0</td>\n",
       "      <td>0.0</td>\n",
       "      <td>0.0</td>\n",
       "      <td>1601435126000000000</td>\n",
       "      <td>33</td>\n",
       "      <td>1</td>\n",
       "    </tr>\n",
       "    <tr>\n",
       "      <th>134434</th>\n",
       "      <td>0.142307</td>\n",
       "      <td>0.016379</td>\n",
       "      <td>0.010974</td>\n",
       "      <td>0.005991</td>\n",
       "      <td>0.009369</td>\n",
       "      <td>0.005670</td>\n",
       "      <td>0.003335</td>\n",
       "      <td>0.003099</td>\n",
       "      <td>0.009761</td>\n",
       "      <td>0.002385</td>\n",
       "      <td>...</td>\n",
       "      <td>0.0</td>\n",
       "      <td>2180.0</td>\n",
       "      <td>585728.0</td>\n",
       "      <td>0.0</td>\n",
       "      <td>0.0</td>\n",
       "      <td>0.0</td>\n",
       "      <td>0.0</td>\n",
       "      <td>1601435127000000000</td>\n",
       "      <td>33</td>\n",
       "      <td>1</td>\n",
       "    </tr>\n",
       "  </tbody>\n",
       "</table>\n",
       "<p>5 rows × 2384 columns</p>\n",
       "</div>"
      ],
      "text/plain": [
       "            0         1         2         3         4         5         6     \\\n",
       "134430  0.065420  0.005993  0.005216  0.005492  0.005747  0.004183  0.005373   \n",
       "134431  0.065421  0.005993  0.005216  0.005492  0.005747  0.004183  0.005373   \n",
       "134432  0.142307  0.016379  0.010974  0.005991  0.009369  0.005670  0.003335   \n",
       "134433  0.142308  0.016379  0.010974  0.005991  0.009369  0.005670  0.003335   \n",
       "134434  0.142307  0.016379  0.010974  0.005991  0.009369  0.005670  0.003335   \n",
       "\n",
       "            7         8         9     ...  2374    2375      2376  2377  2378  \\\n",
       "134430  0.004388  0.005619  0.004121  ...   0.0     0.0       0.0   0.0   0.0   \n",
       "134431  0.004388  0.005617  0.004121  ...   0.0     0.0       0.0   0.0   0.0   \n",
       "134432  0.003099  0.009761  0.002385  ...   0.0  2180.0  585728.0   0.0   0.0   \n",
       "134433  0.003099  0.009761  0.002386  ...   0.0  2180.0  585728.0   0.0   0.0   \n",
       "134434  0.003099  0.009761  0.002385  ...   0.0  2180.0  585728.0   0.0   0.0   \n",
       "\n",
       "        2379  2380                 2381  2382  2383  \n",
       "134430   0.0   0.0  1601435122000000000    33     1  \n",
       "134431   0.0   0.0  1601435123000000000    33     1  \n",
       "134432   0.0   0.0  1601435124000000000    33     1  \n",
       "134433   0.0   0.0  1601435126000000000    33     1  \n",
       "134434   0.0   0.0  1601435127000000000    33     1  \n",
       "\n",
       "[5 rows x 2384 columns]"
      ]
     },
     "execution_count": 113,
     "metadata": {},
     "output_type": "execute_result"
    }
   ],
   "source": [
    "new_X = pd.concat([X, date_cate[['timestamp', 'family']], y], axis=1, ignore_index=True, sort=False)\n",
    "\n",
    "new_X.tail()"
   ]
  },
  {
   "cell_type": "code",
   "execution_count": 114,
   "metadata": {},
   "outputs": [],
   "source": [
    "# Identify y with category\n",
    "y = date_cate['category'].values"
   ]
  },
  {
   "cell_type": "code",
   "execution_count": 115,
   "metadata": {},
   "outputs": [
    {
     "data": {
      "text/plain": [
       "(134435, 134435, 134435, 134435)"
      ]
     },
     "execution_count": 115,
     "metadata": {},
     "output_type": "execute_result"
    }
   ],
   "source": [
    "len(X), len(date_cate), len(new_X), len(y)"
   ]
  },
  {
   "cell_type": "code",
   "execution_count": 116,
   "metadata": {},
   "outputs": [
    {
     "data": {
      "text/plain": [
       "0       0\n",
       "1       0\n",
       "2       0\n",
       "3       0\n",
       "4       0\n",
       "       ..\n",
       "2379    0\n",
       "2380    0\n",
       "2381    0\n",
       "2382    0\n",
       "2383    0\n",
       "Length: 2384, dtype: int64"
      ]
     },
     "execution_count": 116,
     "metadata": {},
     "output_type": "execute_result"
    }
   ],
   "source": [
    "# Check Nulls\n",
    "new_X.isnull().sum()"
   ]
  },
  {
   "cell_type": "markdown",
   "metadata": {
    "id": "A0p_SHngs92J",
    "tags": []
   },
   "source": [
    "### Split dataset to : \n",
    "X_train, y_train, X_test, y_test"
   ]
  },
  {
   "cell_type": "code",
   "execution_count": 117,
   "metadata": {
    "colab": {
     "base_uri": "https://localhost:8080/"
    },
    "id": "e2gCQ0wNyl1b",
    "outputId": "f867ebec-b4e0-4e53-f841-a2b59056bd85"
   },
   "outputs": [
    {
     "name": "stdout",
     "output_type": "stream",
     "text": [
      "(107548, 2381) (107548,)\n",
      "(26887, 2381) (26887,)\n",
      "(107548, 2384) (107548,)\n",
      "(26887, 2384) (26887,)\n"
     ]
    }
   ],
   "source": [
    "from sklearn.model_selection import train_test_split\n",
    "\n",
    "# Create the training and test sets with meta and without meta\n",
    "X_train, X_test, y_train, y_test = train_test_split(X, y, test_size= 0.2, stratify= y, random_state= seed)\n",
    "\n",
    "X_train_, X_test_, y_train_, y_test_ = train_test_split(new_X, y, test_size= 0.2, stratify= y, random_state= seed)\n",
    "\n",
    "print(X_train.shape, y_train.shape)\n",
    "print(X_test.shape, y_test.shape)\n",
    "\n",
    "print(X_train_.shape, y_train_.shape)\n",
    "print(X_test_.shape, y_test_.shape)"
   ]
  },
  {
   "cell_type": "markdown",
   "metadata": {},
   "source": [
    "#### Scaling"
   ]
  },
  {
   "cell_type": "code",
   "execution_count": 127,
   "metadata": {},
   "outputs": [],
   "source": [
    "scaler = MinMaxScaler()\n",
    "X_train = scaler.fit_transform(X_train)\n",
    "X_test = scaler.transform(X_test)\n",
    "\n",
    "X_train_ = scaler.fit_transform(X_train_)\n",
    "X_test_ = scaler.transform(X_test_)"
   ]
  },
  {
   "cell_type": "markdown",
   "metadata": {},
   "source": [
    "### Modeling"
   ]
  },
  {
   "cell_type": "code",
   "execution_count": 118,
   "metadata": {
    "colab": {
     "base_uri": "https://localhost:8080/"
    },
    "id": "p31wa6cEv0PC",
    "outputId": "3cfd58c0-4585-4e25-d4e7-772929f338c4"
   },
   "outputs": [],
   "source": [
    "# Function to simplify measuring.\n",
    "def summarize_clf(y_test, pred):\n",
    "\n",
    "    acc = accuracy_score(y_test, pred, normalize=True)\n",
    "    num_acc = accuracy_score(y_test, pred, normalize=False)\n",
    "    prec = precision_score(y_test, pred, average='weighted')\n",
    "    recall = recall_score(y_test, pred, average='weighted')\n",
    "    \n",
    "    print(\"Length of testing data: \", len(y_test))\n",
    "    print(\"accuracy_count : \" , num_acc)\n",
    "    print(\"accuracy_score : \" , acc)\n",
    "    print(\"precision_score : \" , prec)\n",
    "    print(\"recall_score : \", recall)"
   ]
  },
  {
   "cell_type": "markdown",
   "metadata": {
    "id": "hAXCVlFlu2Lp",
    "tags": []
   },
   "source": [
    "### Train Base-Model"
   ]
  },
  {
   "cell_type": "code",
   "execution_count": 128,
   "metadata": {
    "colab": {
     "base_uri": "https://localhost:8080/"
    },
    "id": "pmjv9gk3y_Cb",
    "outputId": "c54d5ca6-9a00-40cd-9cfb-f40373d18e15",
    "tags": []
   },
   "outputs": [
    {
     "data": {
      "text/plain": [
       "LogisticRegression(random_state=44)"
      ]
     },
     "execution_count": 128,
     "metadata": {},
     "output_type": "execute_result"
    }
   ],
   "source": [
    "# Set the base model..\n",
    "logReg = LogisticRegression(random_state = seed)\n",
    "\n",
    "# Fit the training dataset\n",
    "logReg.fit(X_train, y_train)"
   ]
  },
  {
   "cell_type": "code",
   "execution_count": 129,
   "metadata": {},
   "outputs": [],
   "source": [
    "# Create the predicted tags: pred\n",
    "pred = logReg.predict(X_test)"
   ]
  },
  {
   "cell_type": "code",
   "execution_count": 130,
   "metadata": {},
   "outputs": [
    {
     "name": "stdout",
     "output_type": "stream",
     "text": [
      "Length of testing data:  26887\n",
      "accuracy_count :  24043\n",
      "accuracy_score :  0.8942239744114256\n",
      "precision_score :  0.8807215885422314\n",
      "recall_score :  0.8942239744114256\n"
     ]
    }
   ],
   "source": [
    "summarize_clf(y_test, pred)"
   ]
  },
  {
   "cell_type": "markdown",
   "metadata": {
    "id": "18xFlZ4HxxF-",
    "tags": []
   },
   "source": [
    "##### Evaluate Logistic Regression Without Metadata"
   ]
  },
  {
   "cell_type": "code",
   "execution_count": 131,
   "metadata": {
    "colab": {
     "base_uri": "https://localhost:8080/"
    },
    "id": "KtjfkPixv0Jp",
    "outputId": "0eea2100-503d-4280-b53c-d529a3103ef9",
    "tags": []
   },
   "outputs": [
    {
     "name": "stdout",
     "output_type": "stream",
     "text": [
      "Mean accuracy in Train dataset : 0.8954792278796444\n",
      "Mean accuracy in Test dataset : 0.8942239744114256\n"
     ]
    }
   ],
   "source": [
    "# Mean accuracy in train\n",
    "print('Mean accuracy in Train dataset :', logReg.score(X_train, y_train))\n",
    "# Mean accuracy in test\n",
    "print('Mean accuracy in Test dataset :', logReg.score(X_test, y_test))"
   ]
  },
  {
   "cell_type": "code",
   "execution_count": 132,
   "metadata": {
    "tags": []
   },
   "outputs": [
    {
     "data": {
      "text/plain": [
       "LogisticRegression(random_state=44)"
      ]
     },
     "execution_count": 132,
     "metadata": {},
     "output_type": "execute_result"
    }
   ],
   "source": [
    "# Set the base model with Meta..\n",
    "logReg_ = LogisticRegression(random_state = seed)\n",
    "\n",
    "# Fit the training dataset\n",
    "logReg_.fit(X_train_, y_train_)"
   ]
  },
  {
   "cell_type": "code",
   "execution_count": 133,
   "metadata": {},
   "outputs": [],
   "source": [
    "# Create the predicted tags: pred\n",
    "pred_ = logReg_.predict(X_test_)"
   ]
  },
  {
   "cell_type": "markdown",
   "metadata": {},
   "source": [
    "##### Evaluate Logistic Regression With Metadata"
   ]
  },
  {
   "cell_type": "code",
   "execution_count": 134,
   "metadata": {},
   "outputs": [
    {
     "name": "stdout",
     "output_type": "stream",
     "text": [
      "Mean accuracy in Train dataset : 0.9441923606203741\n",
      "Mean accuracy in Test dataset : 0.9430951761074126\n"
     ]
    }
   ],
   "source": [
    "# Mean accuracy in train\n",
    "print('Mean accuracy in Train dataset :', logReg_.score(X_train_, y_train_))\n",
    "# Mean accuracy in test\n",
    "print('Mean accuracy in Test dataset :', logReg_.score(X_test_, y_test_))"
   ]
  },
  {
   "cell_type": "code",
   "execution_count": 135,
   "metadata": {},
   "outputs": [
    {
     "name": "stdout",
     "output_type": "stream",
     "text": [
      "Length of testing data:  26887\n",
      "accuracy_count :  25357\n",
      "accuracy_score :  0.9430951761074126\n",
      "precision_score :  0.9332549102297332\n",
      "recall_score :  0.9430951761074126\n"
     ]
    }
   ],
   "source": [
    "summarize_clf(y_test, pred_)"
   ]
  },
  {
   "cell_type": "markdown",
   "metadata": {
    "tags": []
   },
   "source": [
    "##### Finish Base Model.."
   ]
  },
  {
   "cell_type": "markdown",
   "metadata": {},
   "source": [
    "We can see logistic Regression not benefit from Metadata(timestamp and labels of family)"
   ]
  },
  {
   "cell_type": "markdown",
   "metadata": {
    "tags": []
   },
   "source": [
    "### MultinomialNB"
   ]
  },
  {
   "cell_type": "code",
   "execution_count": 44,
   "metadata": {},
   "outputs": [],
   "source": [
    "# Instantiate a Multinomial Naive Bayes classifier: nb_classifier\n",
    "nb_classifier = MultinomialNB()"
   ]
  },
  {
   "cell_type": "code",
   "execution_count": 59,
   "metadata": {},
   "outputs": [
    {
     "name": "stdout",
     "output_type": "stream",
     "text": [
      "0.6413136459999256\n"
     ]
    }
   ],
   "source": [
    "# Fit the classifier to the training data\n",
    "nb_classifier.fit(X_train, y_train)\n",
    "\n",
    "# Create the predicted tags: pred\n",
    "pred = nb_classifier.predict(X_test)\n",
    "\n",
    "# Calculate the accuracy score: score\n",
    "score = accuracy_score(y_test, pred)\n",
    "print(score)"
   ]
  },
  {
   "cell_type": "code",
   "execution_count": 60,
   "metadata": {},
   "outputs": [
    {
     "name": "stdout",
     "output_type": "stream",
     "text": [
      "Length of testing data:  26887\n",
      "accuracy_count :  17243\n",
      "accuracy_score :  0.6413136459999256\n",
      "precision_score :  0.7339882516838523\n",
      "recall_score :  0.6413136459999256\n"
     ]
    }
   ],
   "source": [
    "summarize_clf(y_test, pred)"
   ]
  },
  {
   "cell_type": "code",
   "execution_count": 71,
   "metadata": {
    "scrolled": true,
    "tags": []
   },
   "outputs": [
    {
     "name": "stdout",
     "output_type": "stream",
     "text": [
      "Alpha:  0.0\n",
      "Score:  0.6144233272585264\n",
      "\n",
      "Alpha:  0.1\n",
      "Score:  0.6336519507568713\n",
      "\n",
      "Alpha:  0.2\n",
      "Score:  0.6359578978688586\n",
      "\n",
      "Alpha:  0.30000000000000004\n",
      "Score:  0.6362554394316956\n",
      "\n",
      "Alpha:  0.4\n",
      "Score:  0.6371108714248521\n",
      "\n",
      "Alpha:  0.5\n",
      "Score:  0.6377431472458809\n",
      "\n",
      "Alpha:  0.6000000000000001\n",
      "Score:  0.6388217354111653\n",
      "\n",
      "Alpha:  0.7000000000000001\n",
      "Score:  0.6392308550600662\n",
      "\n",
      "Alpha:  0.8\n",
      "Score:  0.6395283966229033\n",
      "\n",
      "Alpha:  0.9\n",
      "Score:  0.6410532971324432\n",
      "\n",
      "Alpha:  1.0\n",
      "Score:  0.6413136459999256\n",
      "\n",
      "Alpha:  1.1\n",
      "Score:  0.6418715364302451\n",
      "\n",
      "Alpha:  1.2000000000000002\n",
      "Score:  0.6424294268605646\n",
      "\n",
      "Alpha:  1.3\n",
      "Score:  0.6427641611187562\n",
      "\n",
      "Alpha:  1.4000000000000001\n",
      "Score:  0.643396436939785\n",
      "\n",
      "Alpha:  1.5\n",
      "Score:  0.6442518689329416\n",
      "\n",
      "Alpha:  1.6\n",
      "Score:  0.646223081786737\n",
      "\n",
      "Alpha:  1.7000000000000002\n",
      "Score:  0.6471900918659576\n",
      "\n",
      "Alpha:  1.8\n",
      "Score:  0.6487521850708521\n",
      "\n",
      "Alpha:  1.9000000000000001\n",
      "Score:  0.6496820024547179\n",
      "\n"
     ]
    }
   ],
   "source": [
    "# Hyperparamete Tuning (Alpha)\n",
    "\n",
    "# Create the list of alphas: alphas\n",
    "alphas = np.arange(0,2, .1)\n",
    "\n",
    "# Define train_and_predict()\n",
    "def train_and_predict(alpha, X_train, X_test):\n",
    "    # Instantiate the classifier\n",
    "    model = MultinomialNB(alpha= alpha)\n",
    "    # Fit to the training data\n",
    "    model.fit(X_train, y_train)\n",
    "    # Predict the labels: pred\n",
    "    pred = model.predict(X_test)\n",
    "    # Compute accuracy: score\n",
    "    score = accuracy_score(y_test, pred)\n",
    "    return score\n",
    "\n",
    "# Iterate over the alphas and print the corresponding score\n",
    "for alpha in alphas:\n",
    "    print('Alpha: ', alpha)\n",
    "    print('Score: ', train_and_predict(alpha, X_train, X_test))\n",
    "    print()"
   ]
  },
  {
   "cell_type": "markdown",
   "metadata": {},
   "source": [
    "### With Metadata"
   ]
  },
  {
   "cell_type": "code",
   "execution_count": 74,
   "metadata": {},
   "outputs": [
    {
     "name": "stdout",
     "output_type": "stream",
     "text": [
      "0.7136162457693309\n"
     ]
    }
   ],
   "source": [
    "# Fit the classifier to the training data\n",
    "nb_classifier.fit(X_train_, y_train_)\n",
    "\n",
    "# Create the predicted tags: pred\n",
    "pred = nb_classifier.predict(X_test_)\n",
    "\n",
    "# Calculate the accuracy score: score\n",
    "score = accuracy_score(y_test_, pred)\n",
    "print(score)"
   ]
  },
  {
   "cell_type": "code",
   "execution_count": 75,
   "metadata": {},
   "outputs": [
    {
     "name": "stdout",
     "output_type": "stream",
     "text": [
      "Length of testing data:  26887\n",
      "accuracy_count :  19187\n",
      "accuracy_score :  0.7136162457693309\n",
      "precision_score :  0.8286587345306854\n",
      "recall_score :  0.7136162457693309\n"
     ]
    }
   ],
   "source": [
    "summarize_clf(y_test_, pred)"
   ]
  },
  {
   "cell_type": "code",
   "execution_count": 76,
   "metadata": {
    "scrolled": true,
    "tags": []
   },
   "outputs": [
    {
     "name": "stdout",
     "output_type": "stream",
     "text": [
      "Alpha:  0.0\n",
      "Score:  0.6859448804254844\n",
      "\n",
      "Alpha:  0.1\n",
      "Score:  0.7050991185331201\n",
      "\n",
      "Alpha:  0.2\n",
      "Score:  0.7073678729497527\n",
      "\n",
      "Alpha:  0.30000000000000004\n",
      "Score:  0.7080373414661361\n",
      "\n",
      "Alpha:  0.4\n",
      "Score:  0.7083348830289731\n",
      "\n",
      "Alpha:  0.5\n",
      "Score:  0.7091531223267751\n",
      "\n",
      "Alpha:  0.6000000000000001\n",
      "Score:  0.709562241975676\n",
      "\n",
      "Alpha:  0.7000000000000001\n",
      "Score:  0.7101201324059955\n",
      "\n",
      "Alpha:  0.8\n",
      "Score:  0.7103060958827686\n",
      "\n",
      "Alpha:  0.9\n",
      "Score:  0.7118309963923085\n",
      "\n",
      "Alpha:  1.0\n",
      "Score:  0.7136162457693309\n",
      "\n",
      "Alpha:  1.1\n",
      "Score:  0.7143229069810689\n",
      "\n",
      "Alpha:  1.2000000000000002\n",
      "Score:  0.7156990367091903\n",
      "\n",
      "Alpha:  1.3\n",
      "Score:  0.7167032394837654\n",
      "\n",
      "Alpha:  1.4000000000000001\n",
      "Score:  0.7176330568676312\n",
      "\n",
      "Alpha:  1.5\n",
      "Score:  0.7180049838211775\n",
      "\n",
      "Alpha:  1.6\n",
      "Score:  0.7186372596422063\n",
      "\n",
      "Alpha:  1.7000000000000002\n",
      "Score:  0.7194554989400082\n",
      "\n",
      "Alpha:  1.8\n",
      "Score:  0.7211291702309667\n",
      "\n",
      "Alpha:  1.9000000000000001\n",
      "Score:  0.7228772269126343\n",
      "\n"
     ]
    }
   ],
   "source": [
    "# Iterate over the alphas and print the corresponding score\n",
    "for alpha in alphas:\n",
    "    print('Alpha: ', alpha)\n",
    "    print('Score: ', train_and_predict(alpha, X_train_, X_test_))\n",
    "    print()"
   ]
  },
  {
   "cell_type": "code",
   "execution_count": null,
   "metadata": {},
   "outputs": [],
   "source": []
  },
  {
   "cell_type": "markdown",
   "metadata": {
    "tags": []
   },
   "source": [
    "### OneVsRest Multinomial Classifier"
   ]
  },
  {
   "cell_type": "code",
   "execution_count": 77,
   "metadata": {},
   "outputs": [],
   "source": [
    "# Instantiate the model. \n",
    "ovr_nb_clf = OneVsRestClassifier(MultinomialNB())"
   ]
  },
  {
   "cell_type": "code",
   "execution_count": 81,
   "metadata": {},
   "outputs": [
    {
     "name": "stdout",
     "output_type": "stream",
     "text": [
      "0.6750102279912226\n",
      "Length of testing data:  26887\n",
      "accuracy_count :  18149\n",
      "accuracy_score :  0.6750102279912226\n",
      "precision_score :  0.7277631719514693\n",
      "recall_score :  0.6750102279912226\n"
     ]
    }
   ],
   "source": [
    "# Without Metadata\n",
    "ovr_nb_clf.fit(X_train, y_train)\n",
    "\n",
    "# Create the predicted tags: pred\n",
    "pred = ovr_nb_clf.predict(X_test)\n",
    "\n",
    "# Calculate the accuracy score: score\n",
    "score = accuracy_score(y_test, pred)\n",
    "print(score)\n",
    "\n",
    "# Display the summary of Classifier\n",
    "summarize_clf(y_test, pred)"
   ]
  },
  {
   "cell_type": "code",
   "execution_count": 83,
   "metadata": {
    "scrolled": true,
    "tags": []
   },
   "outputs": [
    {
     "name": "stdout",
     "output_type": "stream",
     "text": [
      "Alpha:  0.0\n",
      "Score:  0.658161936995574\n",
      "\n",
      "Alpha:  0.1\n",
      "Score:  0.6716628854093056\n",
      "\n",
      "Alpha:  0.2\n",
      "Score:  0.671923234276788\n",
      "\n",
      "Alpha:  0.30000000000000004\n",
      "Score:  0.6725183174024622\n",
      "\n",
      "Alpha:  0.4\n",
      "Score:  0.6728902443560085\n",
      "\n",
      "Alpha:  0.5\n",
      "Score:  0.6735597128723919\n",
      "\n",
      "Alpha:  0.6000000000000001\n",
      "Score:  0.6741547959980659\n",
      "\n",
      "Alpha:  0.7000000000000001\n",
      "Score:  0.6744895302562577\n",
      "\n",
      "Alpha:  0.8\n",
      "Score:  0.6743407594748392\n",
      "\n",
      "Alpha:  0.9\n",
      "Score:  0.6744523375609031\n",
      "\n",
      "Alpha:  1.0\n",
      "Score:  0.6750102279912226\n",
      "\n",
      "Alpha:  1.1\n",
      "Score:  0.6749730352958679\n",
      "\n",
      "Alpha:  1.2000000000000002\n",
      "Score:  0.6748986499051586\n",
      "\n",
      "Alpha:  1.3\n",
      "Score:  0.674861457209804\n",
      "\n",
      "Alpha:  1.4000000000000001\n",
      "Score:  0.6759400453750883\n",
      "\n",
      "Alpha:  1.5\n",
      "Score:  0.6766095138914717\n",
      "\n",
      "Alpha:  1.6\n",
      "Score:  0.6769442481496634\n",
      "\n",
      "Alpha:  1.7000000000000002\n",
      "Score:  0.6772789824078551\n",
      "\n",
      "Alpha:  1.8\n",
      "Score:  0.6776509093614014\n",
      "\n",
      "Alpha:  1.9000000000000001\n",
      "Score:  0.6776137166660468\n",
      "\n"
     ]
    }
   ],
   "source": [
    "# Define train_and_predict()\n",
    "def train_and_predict(alpha, X_train, X_test):\n",
    "    # Instantiate the classifier\n",
    "    model = OneVsRestClassifier(MultinomialNB(alpha= alpha))\n",
    "    # Fit to the training data\n",
    "    model.fit(X_train, y_train)\n",
    "    # Predict the labels: pred\n",
    "    pred = model.predict(X_test)\n",
    "    # Compute accuracy: score\n",
    "    score = accuracy_score(y_test, pred)\n",
    "    return score\n",
    "\n",
    "# Without Metadata\n",
    "# Iterate over the alphas and print the corresponding score\n",
    "for alpha in alphas:\n",
    "    print('Alpha: ', alpha)\n",
    "    print('Score: ', train_and_predict(alpha, X_train, X_test))\n",
    "    print()"
   ]
  },
  {
   "cell_type": "code",
   "execution_count": 84,
   "metadata": {},
   "outputs": [
    {
     "name": "stdout",
     "output_type": "stream",
     "text": [
      "0.7582474801948897\n",
      "Length of testing data:  26887\n",
      "accuracy_count :  20387\n",
      "accuracy_score :  0.7582474801948897\n",
      "precision_score :  0.8286959969736484\n",
      "recall_score :  0.7582474801948897\n"
     ]
    }
   ],
   "source": [
    "# With Metadata\n",
    "ovr_nb_clf.fit(X_train_, y_train_)\n",
    "\n",
    "# Create the predicted tags: pred\n",
    "pred = ovr_nb_clf.predict(X_test_)\n",
    "\n",
    "# Calculate the accuracy score: score\n",
    "score = accuracy_score(y_test_, pred)\n",
    "print(score)\n",
    "\n",
    "# Display the summary of Classifier\n",
    "summarize_clf(y_test_, pred)"
   ]
  },
  {
   "cell_type": "code",
   "execution_count": 85,
   "metadata": {
    "scrolled": true,
    "tags": []
   },
   "outputs": [
    {
     "name": "stdout",
     "output_type": "stream",
     "text": [
      "Alpha:  0.0\n",
      "Score:  0.7536355859709153\n",
      "\n",
      "Alpha:  0.1\n",
      "Score:  0.7550861010897459\n",
      "\n",
      "Alpha:  0.2\n",
      "Score:  0.7549745230036821\n",
      "\n",
      "Alpha:  0.30000000000000004\n",
      "Score:  0.7551604864804552\n",
      "\n",
      "Alpha:  0.4\n",
      "Score:  0.7559787257782572\n",
      "\n",
      "Alpha:  0.5\n",
      "Score:  0.7566853869899952\n",
      "\n",
      "Alpha:  0.6000000000000001\n",
      "Score:  0.7570573139435415\n",
      "\n",
      "Alpha:  0.7000000000000001\n",
      "Score:  0.75720608472496\n",
      "\n",
      "Alpha:  0.8\n",
      "Score:  0.7570573139435415\n",
      "\n",
      "Alpha:  0.9\n",
      "Score:  0.7576895897645702\n",
      "\n",
      "Alpha:  1.0\n",
      "Score:  0.7582474801948897\n",
      "\n",
      "Alpha:  1.1\n",
      "Score:  0.7586565998437906\n",
      "\n",
      "Alpha:  1.2000000000000002\n",
      "Score:  0.760441849220813\n",
      "\n",
      "Alpha:  1.3\n",
      "Score:  0.7606650053929408\n",
      "\n",
      "Alpha:  1.4000000000000001\n",
      "Score:  0.7617807862535798\n",
      "\n",
      "Alpha:  1.5\n",
      "Score:  0.7618923643396437\n",
      "\n",
      "Alpha:  1.6\n",
      "Score:  0.7622270985978354\n",
      "\n",
      "Alpha:  1.7000000000000002\n",
      "Score:  0.7619667497303529\n",
      "\n",
      "Alpha:  1.8\n",
      "Score:  0.7624502547699632\n",
      "\n",
      "Alpha:  1.9000000000000001\n",
      "Score:  0.7636404210213115\n",
      "\n"
     ]
    }
   ],
   "source": [
    "# Iterate over the alphas and print the corresponding score\n",
    "for alpha in alphas:\n",
    "    print('Alpha: ', alpha)\n",
    "    print('Score: ', train_and_predict(alpha, X_train_, X_test_))\n",
    "    print()"
   ]
  },
  {
   "cell_type": "markdown",
   "metadata": {
    "tags": []
   },
   "source": [
    "### Voting Classifiers (MultiClass) >:"
   ]
  },
  {
   "cell_type": "code",
   "execution_count": 86,
   "metadata": {},
   "outputs": [],
   "source": [
    "# Instantiate knn\n",
    "knn = KNeighborsClassifier(n_neighbors=27)\n",
    "\n",
    "# Instantiate dt\n",
    "dt = DecisionTreeClassifier(min_samples_leaf=0.13, random_state=seed)\n",
    "\n",
    "# Define the list classifiers\n",
    "classifiers = [('Logistic Regression', logReg), ('K Nearest Neighbours', knn), ('Classification Tree', dt)]"
   ]
  },
  {
   "cell_type": "code",
   "execution_count": 87,
   "metadata": {},
   "outputs": [
    {
     "name": "stdout",
     "output_type": "stream",
     "text": [
      "Logistic Regression : 0.896\n",
      "K Nearest Neighbours : 0.949\n",
      "Classification Tree : 0.692\n"
     ]
    }
   ],
   "source": [
    "# Without Metadata\n",
    "# Iterate over the pre-defined list of classifiers \n",
    "for clf_name, clf in classifiers:    \n",
    "\n",
    "    # Fit clf to the training set\n",
    "    clf.fit(X_train, y_train)    \n",
    "\n",
    "    # Predict y_pred\n",
    "    y_pred = clf.predict(X_test)\n",
    "\n",
    "    # Calculate accuracy\n",
    "    accuracy = accuracy_score(y_test, y_pred) \n",
    "\n",
    "    # Evaluate clf's accuracy on the test set\n",
    "    print('{:s} : {:.3f}'.format(clf_name, accuracy))"
   ]
  },
  {
   "cell_type": "code",
   "execution_count": 88,
   "metadata": {},
   "outputs": [
    {
     "name": "stdout",
     "output_type": "stream",
     "text": [
      "Logistic Regression : 0.943\n",
      "K Nearest Neighbours : 0.968\n",
      "Classification Tree : 0.861\n"
     ]
    }
   ],
   "source": [
    "# With Metadata + y (binary-label)\n",
    "# Iterate over the pre-defined list of classifiers\n",
    "for clf_name, clf in classifiers:    \n",
    "\n",
    "    # Fit clf to the training set\n",
    "    clf.fit(X_train_, y_train_)    \n",
    "\n",
    "    # Predict y_pred\n",
    "    y_pred = clf.predict(X_test_)\n",
    "\n",
    "    # Calculate accuracy\n",
    "    accuracy = accuracy_score(y_test_, y_pred) \n",
    "\n",
    "    # Evaluate clf's accuracy on the test set\n",
    "    print('{:s} : {:.3f}'.format(clf_name, accuracy))"
   ]
  },
  {
   "cell_type": "markdown",
   "metadata": {},
   "source": [
    "#### FANTASTIC !"
   ]
  },
  {
   "cell_type": "code",
   "execution_count": 89,
   "metadata": {},
   "outputs": [
    {
     "name": "stdout",
     "output_type": "stream",
     "text": [
      "Accuracy score for Model : 0.92\n"
     ]
    }
   ],
   "source": [
    "# Without Metadata\n",
    "# Instantiate a VotingClassifier vc\n",
    "vc = VotingClassifier(estimators=classifiers)     \n",
    "\n",
    "# Fit vc to the training set\n",
    "vc.fit(X_train, y_train)\n",
    "\n",
    "# Calculate accuracy score\n",
    "Accuracy(vc, X_test, y_test)"
   ]
  },
  {
   "cell_type": "code",
   "execution_count": 90,
   "metadata": {},
   "outputs": [
    {
     "name": "stdout",
     "output_type": "stream",
     "text": [
      "Accuracy score for Model : 0.95\n"
     ]
    }
   ],
   "source": [
    "# With Metadata\n",
    "# Instantiate a VotingClassifier vc\n",
    "vc = VotingClassifier(estimators=classifiers)     \n",
    "\n",
    "# Fit vc to the training set\n",
    "vc.fit(X_train_, y_train_)\n",
    "\n",
    "# Calculate accuracy score\n",
    "Accuracy(vc, X_test_, y_test_)"
   ]
  },
  {
   "cell_type": "markdown",
   "metadata": {},
   "source": [
    "#### AMAZING ..!"
   ]
  },
  {
   "cell_type": "markdown",
   "metadata": {},
   "source": [
    "##### We can see most Classifiers benefit from Metadata like(VotingClassifier, K Nearest Neighbours, Classification Tree)\n",
    "##### NN Models..."
   ]
  }
 ],
 "metadata": {
  "colab": {
   "collapsed_sections": [],
   "name": "PE-Detection.ipynb",
   "provenance": []
  },
  "kernelspec": {
   "display_name": "Python 3",
   "language": "python",
   "name": "python3"
  },
  "language_info": {
   "codemirror_mode": {
    "name": "ipython",
    "version": 3
   },
   "file_extension": ".py",
   "mimetype": "text/x-python",
   "name": "python",
   "nbconvert_exporter": "python",
   "pygments_lexer": "ipython3",
   "version": "3.8.8"
  }
 },
 "nbformat": 4,
 "nbformat_minor": 4
}
